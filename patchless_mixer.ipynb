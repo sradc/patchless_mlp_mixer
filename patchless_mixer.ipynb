{
  "nbformat": 4,
  "nbformat_minor": 0,
  "metadata": {
    "colab": {
      "name": "patchless_mixer_2021-05-07.ipynb",
      "provenance": [],
      "collapsed_sections": []
    },
    "kernelspec": {
      "name": "python3",
      "display_name": "Python 3"
    },
    "language_info": {
      "name": "python"
    },
    "accelerator": "GPU"
  },
  "cells": [
    {
      "cell_type": "markdown",
      "metadata": {
        "id": "nR5mvpLfZGaP"
      },
      "source": [
        "# Patchless MLP-Mixer\n",
        "\n",
        "This is a preliminary exploration of an even simpler [MLP-Mixer](https://arxiv.org/abs/2105.01601) style architecture.\n",
        "\n",
        "The architecture:\n",
        "- Uses image rows and columns directly, instead of image patches.\n",
        "- Uses a (novel?) classification method, heavily inspired by MLP-Mixer.\n",
        "- Enables deep models, with low parameter counts.\n",
        "\n",
        "It looks fairly promising (warrenting further investigation):\n",
        "- Initial results (on MNIST and CIFAR-10) are good.\n",
        "- The model is capable of overfitting MNIST and CIFAR-10, suggesting that it would do well with larger, more varied datasets.\n"
      ]
    },
    {
      "cell_type": "code",
      "metadata": {
        "id": "gRpOnzUMOLpE"
      },
      "source": [
        "import matplotlib.pyplot as plt\n",
        "import numpy as np\n",
        "import tensorflow as tf\n",
        "from tensorflow.keras import datasets, layers"
      ],
      "execution_count": 1,
      "outputs": []
    },
    {
      "cell_type": "code",
      "metadata": {
        "id": "gEHW8YUePg2M"
      },
      "source": [
        "class MixerMLP(layers.Layer):\n",
        "    def __init__(self, outsize):\n",
        "        super().__init__()\n",
        "        self.layer_1 = layers.Dense(outsize, activation=tf.nn.gelu)\n",
        "        self.layer_2 = layers.Dense(outsize)\n",
        "\n",
        "    def call(self, inputs):\n",
        "        h = self.layer_1(inputs)\n",
        "        return self.layer_2(h)\n",
        "\n",
        "class Mixer(layers.Layer):\n",
        "    def __init__(self, outheight, outwidth):\n",
        "        super().__init__()\n",
        "        self.layer_1 = MixerMLP(outheight)\n",
        "        self.layer_2 = MixerMLP(outwidth)\n",
        "\n",
        "    def call(self, inputs):\n",
        "        h = tf.keras.layers.Permute((2, 1))(inputs)\n",
        "        h = self.layer_1(h)\n",
        "        h = tf.keras.layers.Permute((2, 1))(h)\n",
        "        return self.layer_2(h)\n",
        "\n",
        "class ScalarGate(tf.keras.layers.Layer):\n",
        "    def __init__(self):\n",
        "        super().__init__()\n",
        "        self.value = tf.Variable(0.0, trainable=True)\n",
        "\n",
        "    def call(self, inputs):\n",
        "        return self.value * inputs\n",
        "\n",
        "def patchless_mixer(height, width, num_classes, num_mix_layers, name=None):\n",
        "    inputs = tf.keras.layers.Input(shape=(height, width))\n",
        "    \n",
        "    h = inputs\n",
        "    for i in range(num_mix_layers):\n",
        "        h = ScalarGate()(Mixer(height, width)(h)) + h\n",
        "    \n",
        "    # Rather than average pooling, \n",
        "    # use MixerMLP for rows, and then cols, \n",
        "    # then concat.\n",
        "    rows_out = MixerMLP(1)(h)\n",
        "    rows_out = tf.keras.layers.Lambda(lambda x: x[:, :, 0])(rows_out)\n",
        "\n",
        "    cols_out = tf.keras.layers.Permute((2, 1))(h)\n",
        "    cols_out = MixerMLP(1)(cols_out)\n",
        "    cols_out = tf.keras.layers.Lambda(lambda x: x[:, :, 0])(cols_out)\n",
        "\n",
        "    concat = tf.keras.layers.Concatenate()([rows_out, cols_out])\n",
        "    flat = tf.keras.layers.Flatten()(concat)\n",
        "    y = tf.keras.layers.Dense(num_classes)(flat)\n",
        "    return tf.keras.Model(inputs=inputs, outputs=y, name=name)\n"
      ],
      "execution_count": 2,
      "outputs": []
    },
    {
      "cell_type": "markdown",
      "metadata": {
        "id": "7cVwvEsOSPXV"
      },
      "source": [
        "# MNIST"
      ]
    },
    {
      "cell_type": "code",
      "metadata": {
        "id": "sliJobd9SKTn"
      },
      "source": [
        "(train_images, train_labels), (test_images, test_labels) = datasets.mnist.load_data()\n",
        "train_images, test_images = train_images / 255.0, test_images / 255.0\n",
        "train_images, test_images = train_images.astype(np.float32), test_images.astype(np.float32)\n",
        "\n",
        "height, width = train_images.shape[-2:]\n",
        "num_classes = 10"
      ],
      "execution_count": 3,
      "outputs": []
    },
    {
      "cell_type": "code",
      "metadata": {
        "colab": {
          "base_uri": "https://localhost:8080/"
        },
        "id": "BBGW1q2hSM9-",
        "outputId": "cf1c6171-6148-434d-915d-83d9f6212d4d"
      },
      "source": [
        "num_mix_layers = 16\n",
        "model = patchless_mixer(height, width, num_classes, num_mix_layers)\n",
        "# print(model.summary())\n",
        "model.predict(train_images[:2, :, :])\n",
        "model.compile(optimizer='adam',\n",
        "              loss=tf.keras.losses.SparseCategoricalCrossentropy(from_logits=True),\n",
        "              metrics=['accuracy'])\n",
        "history = model.fit(train_images, train_labels, batch_size=64, epochs=10, \n",
        "                    validation_data=(test_images, test_labels))"
      ],
      "execution_count": 4,
      "outputs": [
        {
          "output_type": "stream",
          "text": [
            "Epoch 1/10\n",
            "938/938 [==============================] - 40s 34ms/step - loss: 0.7748 - accuracy: 0.7369 - val_loss: 0.1471 - val_accuracy: 0.9571\n",
            "Epoch 2/10\n",
            "938/938 [==============================] - 30s 32ms/step - loss: 0.1262 - accuracy: 0.9612 - val_loss: 0.0952 - val_accuracy: 0.9698\n",
            "Epoch 3/10\n",
            "938/938 [==============================] - 30s 32ms/step - loss: 0.0784 - accuracy: 0.9758 - val_loss: 0.0753 - val_accuracy: 0.9777\n",
            "Epoch 4/10\n",
            "938/938 [==============================] - 30s 32ms/step - loss: 0.0606 - accuracy: 0.9816 - val_loss: 0.0757 - val_accuracy: 0.9782\n",
            "Epoch 5/10\n",
            "938/938 [==============================] - 30s 32ms/step - loss: 0.0473 - accuracy: 0.9853 - val_loss: 0.0707 - val_accuracy: 0.9789\n",
            "Epoch 6/10\n",
            "938/938 [==============================] - 30s 32ms/step - loss: 0.0365 - accuracy: 0.9886 - val_loss: 0.0609 - val_accuracy: 0.9813\n",
            "Epoch 7/10\n",
            "938/938 [==============================] - 30s 32ms/step - loss: 0.0274 - accuracy: 0.9911 - val_loss: 0.0721 - val_accuracy: 0.9780\n",
            "Epoch 8/10\n",
            "938/938 [==============================] - 30s 32ms/step - loss: 0.0247 - accuracy: 0.9915 - val_loss: 0.0770 - val_accuracy: 0.9792\n",
            "Epoch 9/10\n",
            "938/938 [==============================] - 30s 32ms/step - loss: 0.0195 - accuracy: 0.9937 - val_loss: 0.0723 - val_accuracy: 0.9806\n",
            "Epoch 10/10\n",
            "938/938 [==============================] - 30s 32ms/step - loss: 0.0180 - accuracy: 0.9937 - val_loss: 0.0706 - val_accuracy: 0.9815\n"
          ],
          "name": "stdout"
        }
      ]
    },
    {
      "cell_type": "code",
      "metadata": {
        "colab": {
          "base_uri": "https://localhost:8080/",
          "height": 301
        },
        "id": "btjKGXu7XSV2",
        "outputId": "11e244bd-bd2d-4c9d-89e7-7a7fb9cf81a9"
      },
      "source": [
        "plt.plot(history.history['accuracy'], label='accuracy')\n",
        "plt.plot(history.history['val_accuracy'], label = 'val_accuracy')\n",
        "plt.xlabel('Epoch')\n",
        "plt.ylabel('Accuracy')\n",
        "plt.ylim([.8, 1])\n",
        "plt.legend(loc='lower right')\n",
        "test_loss, test_acc = model.evaluate(test_images,  test_labels, verbose=2)"
      ],
      "execution_count": 5,
      "outputs": [
        {
          "output_type": "stream",
          "text": [
            "313/313 - 6s - loss: 0.0706 - accuracy: 0.9815\n"
          ],
          "name": "stdout"
        },
        {
          "output_type": "display_data",
          "data": {
            "image/png": "[encoded data removed]",
            "text/plain": [
              "<Figure size 432x288 with 1 Axes>"
            ]
          },
          "metadata": {
            "tags": [],
            "needs_background": "light"
          }
        }
      ]
    },
    {
      "cell_type": "markdown",
      "metadata": {
        "id": "7Si9BOGiwaaw"
      },
      "source": [
        "# CIFAR-10"
      ]
    },
    {
      "cell_type": "code",
      "metadata": {
        "id": "k8bFy7GfjG-D"
      },
      "source": [
        "(train_images, train_labels), (test_images, test_labels) = datasets.cifar10.load_data()\n",
        "train_images, test_images = train_images / 255.0, test_images / 255.0\n",
        "train_images, test_images = train_images.astype(np.float32), test_images.astype(np.float32)\n",
        "height, width, channels = 32, 32, 3\n",
        "num_classes = 10"
      ],
      "execution_count": 8,
      "outputs": []
    },
    {
      "cell_type": "code",
      "metadata": {
        "colab": {
          "base_uri": "https://localhost:8080/"
        },
        "id": "8MqoVfMgXfvj",
        "outputId": "edc5919c-e107-4de3-d0e1-c2e618ef6c1f"
      },
      "source": [
        "num_mix_layers = 32\n",
        "inputs = tf.keras.layers.Input(shape=(height, width, channels))\n",
        "reshaped = tf.keras.layers.Reshape([height, width * channels])(inputs)\n",
        "model = patchless_mixer(height, width * channels, num_classes, num_mix_layers)(reshaped)\n",
        "model = tf.keras.Model(inputs=inputs, outputs=model)\n",
        "print(model.summary())\n",
        "model.predict(train_images[:2, :, :])\n",
        "model.compile(optimizer='adam',\n",
        "              loss=tf.keras.losses.SparseCategoricalCrossentropy(from_logits=True),\n",
        "              metrics=['accuracy'])\n",
        "history = model.fit(train_images, train_labels, batch_size=64, epochs=10, \n",
        "                    validation_data=(test_images, test_labels))"
      ],
      "execution_count": 9,
      "outputs": [
        {
          "output_type": "stream",
          "text": [
            "Model: \"model_2\"\n",
            "_________________________________________________________________\n",
            "Layer (type)                 Output Shape              Param #   \n",
            "=================================================================\n",
            "input_2 (InputLayer)         [(None, 32, 32, 3)]       0         \n",
            "_________________________________________________________________\n",
            "reshape (Reshape)            (None, 32, 96)            0         \n",
            "_________________________________________________________________\n",
            "model_1 (Functional)         (None, 10)                665008    \n",
            "=================================================================\n",
            "Total params: 665,008\n",
            "Trainable params: 665,008\n",
            "Non-trainable params: 0\n",
            "_________________________________________________________________\n",
            "None\n",
            "Epoch 1/10\n",
            "782/782 [==============================] - 73s 74ms/step - loss: 1.8599 - accuracy: 0.3252 - val_loss: 1.3946 - val_accuracy: 0.5054\n",
            "Epoch 2/10\n",
            "782/782 [==============================] - 54s 69ms/step - loss: 1.3312 - accuracy: 0.5274 - val_loss: 1.2374 - val_accuracy: 0.5607\n",
            "Epoch 3/10\n",
            "782/782 [==============================] - 54s 70ms/step - loss: 1.1465 - accuracy: 0.5936 - val_loss: 1.1631 - val_accuracy: 0.5865\n",
            "Epoch 4/10\n",
            "782/782 [==============================] - 54s 69ms/step - loss: 0.9872 - accuracy: 0.6507 - val_loss: 1.1304 - val_accuracy: 0.6018\n",
            "Epoch 5/10\n",
            "782/782 [==============================] - 54s 69ms/step - loss: 0.8380 - accuracy: 0.7020 - val_loss: 1.1241 - val_accuracy: 0.6107\n",
            "Epoch 6/10\n",
            "782/782 [==============================] - 55s 70ms/step - loss: 0.6757 - accuracy: 0.7599 - val_loss: 1.2135 - val_accuracy: 0.6027\n",
            "Epoch 7/10\n",
            "782/782 [==============================] - 54s 69ms/step - loss: 0.5103 - accuracy: 0.8218 - val_loss: 1.3281 - val_accuracy: 0.6008\n",
            "Epoch 8/10\n",
            "782/782 [==============================] - 54s 69ms/step - loss: 0.3777 - accuracy: 0.8675 - val_loss: 1.5059 - val_accuracy: 0.5981\n",
            "Epoch 9/10\n",
            "782/782 [==============================] - 54s 69ms/step - loss: 0.2693 - accuracy: 0.9055 - val_loss: 1.7523 - val_accuracy: 0.5986\n",
            "Epoch 10/10\n",
            "782/782 [==============================] - 54s 69ms/step - loss: 0.1992 - accuracy: 0.9304 - val_loss: 1.9500 - val_accuracy: 0.6014\n"
          ],
          "name": "stdout"
        }
      ]
    },
    {
      "cell_type": "code",
      "metadata": {
        "colab": {
          "base_uri": "https://localhost:8080/",
          "height": 301
        },
        "id": "wUIgCxUTydlf",
        "outputId": "7e1306ba-590f-442e-a2ef-22a3b072075d"
      },
      "source": [
        "plt.plot(history.history['accuracy'], label='accuracy')\n",
        "plt.plot(history.history['val_accuracy'], label = 'val_accuracy')\n",
        "plt.xlabel('Epoch')\n",
        "plt.ylabel('Accuracy')\n",
        "plt.ylim([0, 1])\n",
        "plt.legend(loc='lower right')\n",
        "test_loss, test_acc = model.evaluate(test_images,  test_labels, verbose=2)"
      ],
      "execution_count": 10,
      "outputs": [
        {
          "output_type": "stream",
          "text": [
            "313/313 - 12s - loss: 1.9500 - accuracy: 0.6014\n"
          ],
          "name": "stdout"
        },
        {
          "output_type": "display_data",
          "data": {
            "image/png": "[encoded data removed]",
            "text/plain": [
              "<Figure size 432x288 with 1 Axes>"
            ]
          },
          "metadata": {
            "tags": [],
            "needs_background": "light"
          }
        }
      ]
    }
  ]
}