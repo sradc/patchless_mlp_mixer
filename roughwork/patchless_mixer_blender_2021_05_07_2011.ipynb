{
  "nbformat": 4,
  "nbformat_minor": 0,
  "metadata": {
    "colab": {
      "name": "Copy of patchless_mixer_crusher_2021-05-07-2011.ipynb",
      "provenance": [],
      "collapsed_sections": []
    },
    "kernelspec": {
      "name": "python3",
      "display_name": "Python 3"
    },
    "language_info": {
      "name": "python"
    },
    "accelerator": "GPU"
  },
  "cells": [
    {
      "cell_type": "code",
      "metadata": {
        "id": "gRpOnzUMOLpE"
      },
      "source": [
        "import tensorflow as tf\n",
        "from tensorflow.keras import datasets\n",
        "import numpy as np\n",
        "import matplotlib.pyplot as plt"
      ],
      "execution_count": null,
      "outputs": []
    },
    {
      "cell_type": "code",
      "metadata": {
        "colab": {
          "base_uri": "https://localhost:8080/"
        },
        "id": "GkEE7_qO6kRr",
        "outputId": "47d9ef1c-89cd-44bc-f614-166af175d797"
      },
      "source": [
        "x = np.random.random([10, 1, 2, 3])\n",
        "W = np.random.random([4, 3, 1])\n",
        "y = np.matmul(x, W)\n",
        "y.shape"
      ],
      "execution_count": null,
      "outputs": [
        {
          "output_type": "execute_result",
          "data": {
            "text/plain": [
              "(10, 4, 2, 1)"
            ]
          },
          "metadata": {
            "tags": []
          },
          "execution_count": 294
        }
      ]
    },
    {
      "cell_type": "code",
      "metadata": {
        "id": "fvtfS7A8XF9J"
      },
      "source": [
        "class BatchDense(tf.keras.layers.Layer):\n",
        "    def __init__(self, num_layers, num_neurons, activation):\n",
        "        super().__init__()\n",
        "        self.num_layers = num_layers\n",
        "        self.num_neurons = num_neurons\n",
        "        self.activation = activation if activation else lambda x: x\n",
        "    \n",
        "    def build(self, input_shape):\n",
        "        self.w = self.add_weight(shape=(self.num_layers, input_shape[-1], self.num_neurons),\n",
        "                               initializer='he_uniform',\n",
        "                               trainable=True)\n",
        "        self.b = self.add_weight(shape=(self.num_layers, 1, self.num_neurons),\n",
        "                               initializer='zeros',\n",
        "                               trainable=True)\n",
        "    \n",
        "    def call(self, inputs):\n",
        "        return self.activation(tf.matmul(inputs, self.w) + self.b)\n",
        "\n",
        "class MixerMLP(tf.keras.layers.Layer):\n",
        "    def __init__(self, num_layers, outsize, hiddensize=None):\n",
        "        super().__init__()\n",
        "        hiddensize = hiddensize if hiddensize else outsize\n",
        "        self.layer_1 = BatchDense(num_layers, hiddensize, tf.nn.gelu)\n",
        "        self.layer_2 = BatchDense(num_layers, outsize, None)\n",
        "\n",
        "    def call(self, inputs):\n",
        "        h = self.layer_1(inputs)\n",
        "        return self.layer_2(h)\n",
        "\n",
        "class Mixer(tf.keras.layers.Layer):\n",
        "    def __init__(self, num_layers, outheight, outwidth):\n",
        "        super().__init__()\n",
        "        self.layer_1 = MixerMLP(num_layers, outheight)\n",
        "        self.layer_2 = MixerMLP(num_layers, outwidth)\n",
        "\n",
        "    def call(self, inputs):\n",
        "        h = tf.keras.layers.Permute((1, 3, 2))(inputs)\n",
        "        h = self.layer_1(h)\n",
        "        h = tf.keras.layers.Permute((1, 3, 2))(h)\n",
        "        return self.layer_2(h)\n",
        "\n",
        "class ZeroFilter(tf.keras.layers.Layer):\n",
        "    def __init__(self):\n",
        "        super().__init__()\n",
        "        self.a = tf.Variable(0.0, trainable=True)\n",
        "\n",
        "    def call(self, inputs):\n",
        "        return self.a * inputs"
      ],
      "execution_count": null,
      "outputs": []
    },
    {
      "cell_type": "code",
      "metadata": {
        "id": "nGAaO3H6S8uF"
      },
      "source": [
        "def resnet_mixer(height, width, depth, num_classes, n_repeat, name=None):\n",
        "    inputs = tf.keras.layers.Input(shape=(height, width))\n",
        "    expanded = tf.keras.layers.Reshape((1, height, width))(inputs)    \n",
        "    h = expanded\n",
        "\n",
        "    for i in range(n_repeat):\n",
        "        h = ZeroFilter()(Mixer(depth, height, width)(h)) + h\n",
        "    \n",
        "    rows_out = MixerMLP(depth, 1)(h)\n",
        "    rows_out = tf.keras.layers.Lambda(lambda x: x[:, :, :, 0])(rows_out)\n",
        "\n",
        "    cols_out = tf.keras.layers.Permute((1, 3, 2))(h)\n",
        "    cols_out = MixerMLP(depth, 1)(cols_out)\n",
        "    cols_out = tf.keras.layers.Lambda(lambda x: x[:, :, :, 0])(cols_out)\n",
        "\n",
        "    concat = tf.keras.layers.Concatenate()([rows_out, cols_out])\n",
        "    av = tf.keras.layers.Lambda(lambda x: tf.reduce_mean(x, axis=1))(concat)  # average depthwise\n",
        "    flat = tf.keras.layers.Flatten()(av)\n",
        "    y = tf.keras.layers.Dense(num_classes)(flat)\n",
        "    return tf.keras.Model(inputs=inputs, outputs=y, name=name)\n",
        "\n",
        "\n",
        "def repeated_patchless_mixer_2(height, width, hidden_dim, size, num_classes, n_repeat, name=None):\n",
        "    inputs = tf.keras.layers.Input(shape=(height, width))\n",
        "    expanded = tf.keras.layers.Reshape((1, height, width))(inputs)    \n",
        "    h = Mixer(size, hidden_dim, hidden_dim)(expanded)\n",
        "\n",
        "    for i in range(n_repeat):\n",
        "        h = ZeroFilter()(Mixer(size, hidden_dim, hidden_dim)(h)) + h\n",
        "    \n",
        "    rows_out = MixerMLP(size, 1)(h)\n",
        "    rows_out = tf.keras.layers.Lambda(lambda x: x[:, :, :, 0])(rows_out)\n",
        "\n",
        "    cols_out = tf.keras.layers.Permute((1, 3, 2))(h)\n",
        "    cols_out = MixerMLP(size, 1)(cols_out)\n",
        "    cols_out = tf.keras.layers.Lambda(lambda x: x[:, :, :, 0])(cols_out)\n",
        "\n",
        "    concat = tf.keras.layers.Concatenate()([rows_out, cols_out])\n",
        "    flat = tf.keras.layers.Flatten()(concat)\n",
        "    y = tf.keras.layers.Dense(num_classes)(flat)\n",
        "    return tf.keras.Model(inputs=inputs, outputs=y, name=name)\n",
        "\n",
        "\n",
        "def repeated_patchless_mixer(height, width, hidden_dim, size, num_classes, n_repeat, name=None):\n",
        "    \"Closer to original, with averaged layer.\"\n",
        "    inputs = tf.keras.layers.Input(shape=(height, width))\n",
        "    expanded = tf.keras.layers.Reshape((1, height, width))(inputs)\n",
        "    row_wise = MixerMLP(size, hidden_dim)(expanded)\n",
        "    transposed = tf.keras.layers.Permute((1, 3, 2))(row_wise)\n",
        "    col_wise = MixerMLP(size, hidden_dim)(transposed)\n",
        "    h_ = col_wise\n",
        "    for i in range(n_repeat):\n",
        "        h = tf.keras.layers.Permute((1, 3, 2))(h_)\n",
        "        h = MixerMLP(size, hidden_dim)(h)\n",
        "        h = tf.keras.layers.Permute((1, 3, 2))(h)\n",
        "        h = MixerMLP(size, hidden_dim)(h)\n",
        "        h_ = h + h_\n",
        "    averaged = tf.keras.layers.Lambda(lambda x: tf.reduce_mean(x, axis=1))(col_wise)\n",
        "    flat = tf.keras.layers.Flatten()(h_)\n",
        "    y = tf.keras.layers.Dense(num_classes)(flat)\n",
        "    return tf.keras.Model(inputs=inputs, outputs=y, name=name)\n",
        "\n",
        "def patchless_mixer(height, width, hidden_dim, depth, num_classes, name=None):\n",
        "    inputs = tf.keras.layers.Input(shape=(height, width))\n",
        "    expanded = tf.keras.layers.Reshape((1, height, width))(inputs)\n",
        "    row_wise = MixerMLP(depth, hidden_dim)(expanded)\n",
        "    transposed = tf.keras.layers.Permute((1, 3, 2))(row_wise)\n",
        "    col_wise = MixerMLP(depth, hidden_dim)(transposed)\n",
        "    averaged = tf.keras.layers.Lambda(lambda x: tf.reduce_mean(x, axis=1))(col_wise)\n",
        "    flat = tf.keras.layers.Flatten()(averaged)\n",
        "    y = tf.keras.layers.Dense(num_classes)(flat)\n",
        "    return tf.keras.Model(inputs=inputs, outputs=y, name=name)\n",
        "\n",
        "def blender(height, width, size, num_classes, name=None):\n",
        "    inputs = tf.keras.layers.Input(shape=(height, width))\n",
        "    expanded = tf.keras.layers.Reshape((1, height, width))(inputs)\n",
        "    row_wise = BatchDense(size, 1)(expanded)\n",
        "    transposed = tf.keras.layers.Permute((1, 3, 2))(row_wise)\n",
        "    col_wise = BatchDense(size, 1)(transposed)\n",
        "    flattened = tf.keras.layers.Flatten()(col_wise)\n",
        "    y = tf.keras.layers.Dense(num_classes)(flattened)\n",
        "    return tf.keras.Model(inputs=inputs, outputs=y, name=name)\n",
        "\n",
        "def wider_blender(height, width, hiddensize, size, num_classes, name=None):\n",
        "    inputs = tf.keras.layers.Input(shape=(height, width))\n",
        "    expanded = tf.keras.layers.Reshape((1, height, width))(inputs)\n",
        "    row_wise = MixerMLP(size, hiddensize, 1)(expanded)\n",
        "    transposed = tf.keras.layers.Permute((1, 3, 2))(row_wise)\n",
        "    col_wise = MixerMLP(size, hiddensize, 1)(transposed)\n",
        "    flattened = tf.keras.layers.Flatten()(col_wise)\n",
        "    y = tf.keras.layers.Dense(num_classes)(flattened)\n",
        "    return tf.keras.Model(inputs=inputs, outputs=y, name=name)\n"
      ],
      "execution_count": null,
      "outputs": []
    },
    {
      "cell_type": "markdown",
      "metadata": {
        "id": "gIP_iuB4hl-6"
      },
      "source": [
        "# MNIST"
      ]
    },
    {
      "cell_type": "code",
      "metadata": {
        "id": "23Lh1G8ox1If"
      },
      "source": [
        "(train_images, train_labels), (test_images, test_labels) = datasets.mnist.load_data()\n",
        "train_images, test_images = train_images / 255.0, test_images / 255.0\n",
        "train_images, test_images = train_images.astype(np.float32), test_images.astype(np.float32)\n",
        "train_images, test_images = tf.constant(train_images), tf.constant(test_images)\n",
        "\n",
        "height, width = train_images.shape[-2:]\n",
        "num_classes = 10"
      ],
      "execution_count": null,
      "outputs": []
    },
    {
      "cell_type": "code",
      "metadata": {
        "colab": {
          "base_uri": "https://localhost:8080/"
        },
        "id": "L5DoWadl7_uA",
        "outputId": "cbe24de8-9ef1-4b59-f842-6101be4213ab"
      },
      "source": [
        "\"RESNET MIXER\"\n",
        "hidden_dim = 64\n",
        "n_repeat = 2\n",
        "depth = 16\n",
        "model = resnet_mixer(height, width, depth, num_classes, n_repeat)\n",
        "print(model.summary())\n",
        "model.predict(train_images[:2, :, :])\n",
        "model.compile(optimizer='adam',\n",
        "              loss=tf.keras.losses.SparseCategoricalCrossentropy(from_logits=True),\n",
        "              metrics=['accuracy'])\n",
        "history = model.fit(train_images, train_labels, batch_size=64, epochs=10, \n",
        "                    validation_data=(test_images, test_labels))"
      ],
      "execution_count": null,
      "outputs": [
        {
          "output_type": "stream",
          "text": [
            "Model: \"model_165\"\n",
            "__________________________________________________________________________________________________\n",
            "Layer (type)                    Output Shape         Param #     Connected to                     \n",
            "==================================================================================================\n",
            "input_196 (InputLayer)          [(None, 28, 28)]     0                                            \n",
            "__________________________________________________________________________________________________\n",
            "reshape_184 (Reshape)           (None, 1, 28, 28)    0           input_196[0][0]                  \n",
            "__________________________________________________________________________________________________\n",
            "mixer_12 (Mixer)                (None, 16, 28, 28)   51968       reshape_184[0][0]                \n",
            "__________________________________________________________________________________________________\n",
            "zero_filter_6 (ZeroFilter)      (None, 16, 28, 28)   1           mixer_12[0][0]                   \n",
            "__________________________________________________________________________________________________\n",
            "tf.__operators__.add_176 (TFOpL (None, 16, 28, 28)   0           zero_filter_6[0][0]              \n",
            "                                                                 reshape_184[0][0]                \n",
            "__________________________________________________________________________________________________\n",
            "mixer_13 (Mixer)                (None, 16, 28, 28)   51968       tf.__operators__.add_176[0][0]   \n",
            "__________________________________________________________________________________________________\n",
            "zero_filter_7 (ZeroFilter)      (None, 16, 28, 28)   1           mixer_13[0][0]                   \n",
            "__________________________________________________________________________________________________\n",
            "tf.__operators__.add_177 (TFOpL (None, 16, 28, 28)   0           zero_filter_7[0][0]              \n",
            "                                                                 tf.__operators__.add_176[0][0]   \n",
            "__________________________________________________________________________________________________\n",
            "permute_454 (Permute)           (None, 16, 28, 28)   0           tf.__operators__.add_177[0][0]   \n",
            "__________________________________________________________________________________________________\n",
            "mixer_mlp_455 (MixerMLP)        (None, 16, 28, 1)    496         tf.__operators__.add_177[0][0]   \n",
            "__________________________________________________________________________________________________\n",
            "mixer_mlp_456 (MixerMLP)        (None, 16, 28, 1)    496         permute_454[0][0]                \n",
            "__________________________________________________________________________________________________\n",
            "lambda_79 (Lambda)              (None, 16, 28)       0           mixer_mlp_455[0][0]              \n",
            "__________________________________________________________________________________________________\n",
            "lambda_80 (Lambda)              (None, 16, 28)       0           mixer_mlp_456[0][0]              \n",
            "__________________________________________________________________________________________________\n",
            "concatenate_12 (Concatenate)    (None, 16, 56)       0           lambda_79[0][0]                  \n",
            "                                                                 lambda_80[0][0]                  \n",
            "__________________________________________________________________________________________________\n",
            "flatten_117 (Flatten)           (None, 896)          0           concatenate_12[0][0]             \n",
            "__________________________________________________________________________________________________\n",
            "dense_201 (Dense)               (None, 10)           8970        flatten_117[0][0]                \n",
            "==================================================================================================\n",
            "Total params: 113,900\n",
            "Trainable params: 113,900\n",
            "Non-trainable params: 0\n",
            "__________________________________________________________________________________________________\n",
            "None\n",
            "WARNING:tensorflow:11 out of the last 11 calls to <function Model.make_predict_function.<locals>.predict_function at 0x7f56c1ce53b0> triggered tf.function retracing. Tracing is expensive and the excessive number of tracings could be due to (1) creating @tf.function repeatedly in a loop, (2) passing tensors with different shapes, (3) passing Python objects instead of tensors. For (1), please define your @tf.function outside of the loop. For (2), @tf.function has experimental_relax_shapes=True option that relaxes argument shapes that can avoid unnecessary retracing. For (3), please refer to https://www.tensorflow.org/guide/function#controlling_retracing and https://www.tensorflow.org/api_docs/python/tf/function for  more details.\n",
            "Epoch 1/10\n",
            "938/938 [==============================] - 10s 9ms/step - loss: 0.9061 - accuracy: 0.7638 - val_loss: 0.1510 - val_accuracy: 0.9552\n",
            "Epoch 2/10\n",
            "938/938 [==============================] - 8s 8ms/step - loss: 0.1412 - accuracy: 0.9592 - val_loss: 0.0978 - val_accuracy: 0.9690\n",
            "Epoch 3/10\n",
            "938/938 [==============================] - 8s 8ms/step - loss: 0.0875 - accuracy: 0.9733 - val_loss: 0.0717 - val_accuracy: 0.9774\n",
            "Epoch 4/10\n",
            "938/938 [==============================] - 8s 8ms/step - loss: 0.0602 - accuracy: 0.9810 - val_loss: 0.0644 - val_accuracy: 0.9795\n",
            "Epoch 5/10\n",
            "938/938 [==============================] - 8s 8ms/step - loss: 0.0495 - accuracy: 0.9845 - val_loss: 0.0573 - val_accuracy: 0.9821\n",
            "Epoch 6/10\n",
            "938/938 [==============================] - 8s 8ms/step - loss: 0.0394 - accuracy: 0.9880 - val_loss: 0.0531 - val_accuracy: 0.9836\n",
            "Epoch 7/10\n",
            "938/938 [==============================] - 8s 8ms/step - loss: 0.0322 - accuracy: 0.9898 - val_loss: 0.0524 - val_accuracy: 0.9836\n",
            "Epoch 8/10\n",
            "938/938 [==============================] - 8s 8ms/step - loss: 0.0267 - accuracy: 0.9916 - val_loss: 0.0635 - val_accuracy: 0.9816\n",
            "Epoch 9/10\n",
            "938/938 [==============================] - 8s 8ms/step - loss: 0.0210 - accuracy: 0.9934 - val_loss: 0.0520 - val_accuracy: 0.9852\n",
            "Epoch 10/10\n",
            "938/938 [==============================] - 8s 8ms/step - loss: 0.0185 - accuracy: 0.9938 - val_loss: 0.0578 - val_accuracy: 0.9834\n"
          ],
          "name": "stdout"
        }
      ]
    },
    {
      "cell_type": "code",
      "metadata": {
        "colab": {
          "base_uri": "https://localhost:8080/"
        },
        "id": "falD5raIvKKk",
        "outputId": "5ccd9efc-e4f2-4324-b0f2-ca795ff03dae"
      },
      "source": [
        "\"DEEPER REPEATED PATCHLESS MIXER ROW-COL CLASSIFICATION\"\n",
        "num_classes = 10\n",
        "hidden_dim = 64\n",
        "n_repeat = 2\n",
        "depth = 8\n",
        "model = repeated_patchless_mixer_2(height, width, hidden_dim, depth, num_classes, n_repeat)\n",
        "print(model.summary())\n",
        "model.predict(train_images[:2, :, :])\n",
        "model.compile(optimizer='adam',\n",
        "              loss=tf.keras.losses.SparseCategoricalCrossentropy(from_logits=True),\n",
        "              metrics=['accuracy'])\n",
        "history = model.fit(train_images, train_labels, batch_size=64, epochs=10, \n",
        "                    validation_data=(test_images, test_labels))"
      ],
      "execution_count": null,
      "outputs": [
        {
          "output_type": "stream",
          "text": [
            "Model: \"model_163\"\n",
            "__________________________________________________________________________________________________\n",
            "Layer (type)                    Output Shape         Param #     Connected to                     \n",
            "==================================================================================================\n",
            "input_194 (InputLayer)          [(None, 28, 28)]     0                                            \n",
            "__________________________________________________________________________________________________\n",
            "reshape_182 (Reshape)           (None, 1, 28, 28)    0           input_194[0][0]                  \n",
            "__________________________________________________________________________________________________\n",
            "mixer_mlp_437 (MixerMLP)        (None, 8, 28, 64)    48128       reshape_182[0][0]                \n",
            "__________________________________________________________________________________________________\n",
            "permute_451 (Permute)           (None, 8, 64, 28)    0           mixer_mlp_437[0][0]              \n",
            "__________________________________________________________________________________________________\n",
            "mixer_mlp_438 (MixerMLP)        (None, 8, 64, 64)    48128       permute_451[0][0]                \n",
            "__________________________________________________________________________________________________\n",
            "mixer_8 (Mixer)                 (None, 8, 64, 64)    133120      mixer_mlp_438[0][0]              \n",
            "__________________________________________________________________________________________________\n",
            "zero_filter_2 (ZeroFilter)      (None, 8, 64, 64)    1           mixer_8[0][0]                    \n",
            "__________________________________________________________________________________________________\n",
            "tf.__operators__.add_172 (TFOpL (None, 8, 64, 64)    0           zero_filter_2[0][0]              \n",
            "                                                                 mixer_mlp_438[0][0]              \n",
            "__________________________________________________________________________________________________\n",
            "mixer_9 (Mixer)                 (None, 8, 64, 64)    133120      tf.__operators__.add_172[0][0]   \n",
            "__________________________________________________________________________________________________\n",
            "zero_filter_3 (ZeroFilter)      (None, 8, 64, 64)    1           mixer_9[0][0]                    \n",
            "__________________________________________________________________________________________________\n",
            "tf.__operators__.add_173 (TFOpL (None, 8, 64, 64)    0           zero_filter_3[0][0]              \n",
            "                                                                 tf.__operators__.add_172[0][0]   \n",
            "__________________________________________________________________________________________________\n",
            "permute_452 (Permute)           (None, 8, 64, 64)    0           tf.__operators__.add_173[0][0]   \n",
            "__________________________________________________________________________________________________\n",
            "mixer_mlp_443 (MixerMLP)        (None, 8, 64, 1)     536         tf.__operators__.add_173[0][0]   \n",
            "__________________________________________________________________________________________________\n",
            "mixer_mlp_444 (MixerMLP)        (None, 8, 64, 1)     536         permute_452[0][0]                \n",
            "__________________________________________________________________________________________________\n",
            "lambda_75 (Lambda)              (None, 8, 64)        0           mixer_mlp_443[0][0]              \n",
            "__________________________________________________________________________________________________\n",
            "lambda_76 (Lambda)              (None, 8, 64)        0           mixer_mlp_444[0][0]              \n",
            "__________________________________________________________________________________________________\n",
            "concatenate_10 (Concatenate)    (None, 8, 128)       0           lambda_75[0][0]                  \n",
            "                                                                 lambda_76[0][0]                  \n",
            "__________________________________________________________________________________________________\n",
            "flatten_115 (Flatten)           (None, 1024)         0           concatenate_10[0][0]             \n",
            "__________________________________________________________________________________________________\n",
            "dense_199 (Dense)               (None, 10)           10250       flatten_115[0][0]                \n",
            "==================================================================================================\n",
            "Total params: 373,820\n",
            "Trainable params: 373,820\n",
            "Non-trainable params: 0\n",
            "__________________________________________________________________________________________________\n",
            "None\n",
            "WARNING:tensorflow:11 out of the last 11 calls to <function Model.make_predict_function.<locals>.predict_function at 0x7f574c4650e0> triggered tf.function retracing. Tracing is expensive and the excessive number of tracings could be due to (1) creating @tf.function repeatedly in a loop, (2) passing tensors with different shapes, (3) passing Python objects instead of tensors. For (1), please define your @tf.function outside of the loop. For (2), @tf.function has experimental_relax_shapes=True option that relaxes argument shapes that can avoid unnecessary retracing. For (3), please refer to https://www.tensorflow.org/guide/function#controlling_retracing and https://www.tensorflow.org/api_docs/python/tf/function for  more details.\n",
            "Epoch 1/10\n",
            "938/938 [==============================] - 16s 14ms/step - loss: 0.6421 - accuracy: 0.8026 - val_loss: 0.1404 - val_accuracy: 0.9559\n",
            "Epoch 2/10\n",
            "938/938 [==============================] - 13s 14ms/step - loss: 0.1150 - accuracy: 0.9667 - val_loss: 0.0810 - val_accuracy: 0.9746\n",
            "Epoch 3/10\n",
            "938/938 [==============================] - 13s 14ms/step - loss: 0.0778 - accuracy: 0.9757 - val_loss: 0.0749 - val_accuracy: 0.9768\n",
            "Epoch 4/10\n",
            "938/938 [==============================] - 13s 14ms/step - loss: 0.0592 - accuracy: 0.9804 - val_loss: 0.0671 - val_accuracy: 0.9795\n",
            "Epoch 5/10\n",
            "938/938 [==============================] - 13s 14ms/step - loss: 0.0484 - accuracy: 0.9850 - val_loss: 0.0624 - val_accuracy: 0.9791\n",
            "Epoch 6/10\n",
            "938/938 [==============================] - 13s 14ms/step - loss: 0.0406 - accuracy: 0.9874 - val_loss: 0.0606 - val_accuracy: 0.9811\n",
            "Epoch 7/10\n",
            "938/938 [==============================] - 13s 14ms/step - loss: 0.0337 - accuracy: 0.9894 - val_loss: 0.0540 - val_accuracy: 0.9828\n",
            "Epoch 8/10\n",
            "938/938 [==============================] - 13s 14ms/step - loss: 0.0277 - accuracy: 0.9905 - val_loss: 0.0586 - val_accuracy: 0.9812\n",
            "Epoch 9/10\n",
            "938/938 [==============================] - 13s 14ms/step - loss: 0.0241 - accuracy: 0.9917 - val_loss: 0.0619 - val_accuracy: 0.9824\n",
            "Epoch 10/10\n",
            "938/938 [==============================] - 13s 14ms/step - loss: 0.0194 - accuracy: 0.9937 - val_loss: 0.0665 - val_accuracy: 0.9823\n"
          ],
          "name": "stdout"
        }
      ]
    },
    {
      "cell_type": "code",
      "metadata": {
        "id": "1bmY-VaRpMbm"
      },
      "source": [
        "\"DEEPER REPEATED PATCHLESS MIXER\"\n",
        "num_classes = 10\n",
        "hidden_dim = 28\n",
        "n_repeat = 3\n",
        "depth = 8\n",
        "model = repeated_patchless_mixer(height, width, hidden_dim, depth, num_classes, n_repeat)\n",
        "print(model.summary())\n",
        "model.predict(train_images[:2, :, :])\n",
        "model.compile(optimizer='adam',\n",
        "              loss=tf.keras.losses.SparseCategoricalCrossentropy(from_logits=True),\n",
        "              metrics=['accuracy'])\n",
        "history = model.fit(train_images, train_labels, batch_size=64, epochs=10, \n",
        "                    validation_data=(test_images, test_labels))"
      ],
      "execution_count": null,
      "outputs": []
    },
    {
      "cell_type": "code",
      "metadata": {
        "colab": {
          "base_uri": "https://localhost:8080/"
        },
        "id": "DsRlfDmckhHm",
        "outputId": "358052c8-c6f9-4633-fb2a-9a1c4a63b00c"
      },
      "source": [
        "\"REPEATED PATCHLESS MIXER\"  # todo allow multichannel\n",
        "num_classes = 10\n",
        "hidden_dim = 28\n",
        "n_repeat = 3\n",
        "depth = 1\n",
        "model = repeated_patchless_mixer(height, width, hidden_dim, depth, num_classes, n_repeat)\n",
        "print(model.summary())\n",
        "model.predict(train_images[:2, :, :])\n",
        "model.compile(optimizer='adam',\n",
        "              loss=tf.keras.losses.SparseCategoricalCrossentropy(from_logits=True),\n",
        "              metrics=['accuracy'])\n",
        "history = model.fit(train_images, train_labels, batch_size=64, epochs=10, \n",
        "                    validation_data=(test_images, test_labels))"
      ],
      "execution_count": null,
      "outputs": [
        {
          "output_type": "stream",
          "text": [
            "Model: \"model_126\"\n",
            "__________________________________________________________________________________________________\n",
            "Layer (type)                    Output Shape         Param #     Connected to                     \n",
            "==================================================================================================\n",
            "input_152 (InputLayer)          [(None, 28, 28)]     0                                            \n",
            "__________________________________________________________________________________________________\n",
            "reshape_140 (Reshape)           (None, 1, 28, 28)    0           input_152[0][0]                  \n",
            "__________________________________________________________________________________________________\n",
            "mixer_mlp_40 (MixerMLP)         (None, 1, 28, 32)    1984        reshape_140[0][0]                \n",
            "__________________________________________________________________________________________________\n",
            "permute_109 (Permute)           (None, 1, 32, 28)    0           mixer_mlp_40[0][0]               \n",
            "__________________________________________________________________________________________________\n",
            "mixer_mlp_41 (MixerMLP)         (None, 1, 32, 32)    1984        permute_109[0][0]                \n",
            "__________________________________________________________________________________________________\n",
            "permute_110 (Permute)           (None, 1, 32, 32)    0           mixer_mlp_41[0][0]               \n",
            "__________________________________________________________________________________________________\n",
            "mixer_mlp_42 (MixerMLP)         (None, 1, 32, 32)    2112        permute_110[0][0]                \n",
            "__________________________________________________________________________________________________\n",
            "permute_111 (Permute)           (None, 1, 32, 32)    0           mixer_mlp_42[0][0]               \n",
            "__________________________________________________________________________________________________\n",
            "mixer_mlp_43 (MixerMLP)         (None, 1, 32, 32)    2112        permute_111[0][0]                \n",
            "__________________________________________________________________________________________________\n",
            "tf.__operators__.add_15 (TFOpLa (None, 1, 32, 32)    0           mixer_mlp_43[0][0]               \n",
            "                                                                 mixer_mlp_41[0][0]               \n",
            "__________________________________________________________________________________________________\n",
            "permute_112 (Permute)           (None, 1, 32, 32)    0           tf.__operators__.add_15[0][0]    \n",
            "__________________________________________________________________________________________________\n",
            "mixer_mlp_44 (MixerMLP)         (None, 1, 32, 32)    2112        permute_112[0][0]                \n",
            "__________________________________________________________________________________________________\n",
            "permute_113 (Permute)           (None, 1, 32, 32)    0           mixer_mlp_44[0][0]               \n",
            "__________________________________________________________________________________________________\n",
            "mixer_mlp_45 (MixerMLP)         (None, 1, 32, 32)    2112        permute_113[0][0]                \n",
            "__________________________________________________________________________________________________\n",
            "tf.__operators__.add_16 (TFOpLa (None, 1, 32, 32)    0           mixer_mlp_45[0][0]               \n",
            "                                                                 tf.__operators__.add_15[0][0]    \n",
            "__________________________________________________________________________________________________\n",
            "permute_114 (Permute)           (None, 1, 32, 32)    0           tf.__operators__.add_16[0][0]    \n",
            "__________________________________________________________________________________________________\n",
            "mixer_mlp_46 (MixerMLP)         (None, 1, 32, 32)    2112        permute_114[0][0]                \n",
            "__________________________________________________________________________________________________\n",
            "permute_115 (Permute)           (None, 1, 32, 32)    0           mixer_mlp_46[0][0]               \n",
            "__________________________________________________________________________________________________\n",
            "mixer_mlp_47 (MixerMLP)         (None, 1, 32, 32)    2112        permute_115[0][0]                \n",
            "__________________________________________________________________________________________________\n",
            "tf.__operators__.add_17 (TFOpLa (None, 1, 32, 32)    0           mixer_mlp_47[0][0]               \n",
            "                                                                 tf.__operators__.add_16[0][0]    \n",
            "__________________________________________________________________________________________________\n",
            "flatten_91 (Flatten)            (None, 1024)         0           tf.__operators__.add_17[0][0]    \n",
            "__________________________________________________________________________________________________\n",
            "dense_175 (Dense)               (None, 10)           10250       flatten_91[0][0]                 \n",
            "==================================================================================================\n",
            "Total params: 26,890\n",
            "Trainable params: 26,890\n",
            "Non-trainable params: 0\n",
            "__________________________________________________________________________________________________\n",
            "None\n",
            "WARNING:tensorflow:11 out of the last 11 calls to <function Model.make_predict_function.<locals>.predict_function at 0x7f56c1b86290> triggered tf.function retracing. Tracing is expensive and the excessive number of tracings could be due to (1) creating @tf.function repeatedly in a loop, (2) passing tensors with different shapes, (3) passing Python objects instead of tensors. For (1), please define your @tf.function outside of the loop. For (2), @tf.function has experimental_relax_shapes=True option that relaxes argument shapes that can avoid unnecessary retracing. For (3), please refer to https://www.tensorflow.org/guide/function#controlling_retracing and https://www.tensorflow.org/api_docs/python/tf/function for  more details.\n",
            "Epoch 1/10\n",
            "938/938 [==============================] - 6s 5ms/step - loss: 0.7084 - accuracy: 0.8015 - val_loss: 0.1605 - val_accuracy: 0.9513\n",
            "Epoch 2/10\n",
            "938/938 [==============================] - 4s 4ms/step - loss: 0.1333 - accuracy: 0.9589 - val_loss: 0.1202 - val_accuracy: 0.9646\n",
            "Epoch 3/10\n",
            "938/938 [==============================] - 4s 4ms/step - loss: 0.0893 - accuracy: 0.9724 - val_loss: 0.0994 - val_accuracy: 0.9711\n",
            "Epoch 4/10\n",
            "938/938 [==============================] - 4s 4ms/step - loss: 0.0711 - accuracy: 0.9777 - val_loss: 0.1015 - val_accuracy: 0.9707\n",
            "Epoch 5/10\n",
            "938/938 [==============================] - 4s 4ms/step - loss: 0.0563 - accuracy: 0.9811 - val_loss: 0.0830 - val_accuracy: 0.9754\n",
            "Epoch 6/10\n",
            "938/938 [==============================] - 4s 4ms/step - loss: 0.0473 - accuracy: 0.9850 - val_loss: 0.1069 - val_accuracy: 0.9700\n",
            "Epoch 7/10\n",
            "938/938 [==============================] - 4s 4ms/step - loss: 0.0408 - accuracy: 0.9865 - val_loss: 0.0961 - val_accuracy: 0.9733\n",
            "Epoch 8/10\n",
            "938/938 [==============================] - 4s 4ms/step - loss: 0.0335 - accuracy: 0.9889 - val_loss: 0.0949 - val_accuracy: 0.9747\n",
            "Epoch 9/10\n",
            "938/938 [==============================] - 4s 4ms/step - loss: 0.0306 - accuracy: 0.9902 - val_loss: 0.1054 - val_accuracy: 0.9741\n",
            "Epoch 10/10\n",
            "938/938 [==============================] - 4s 4ms/step - loss: 0.0330 - accuracy: 0.9891 - val_loss: 0.0879 - val_accuracy: 0.9785\n"
          ],
          "name": "stdout"
        }
      ]
    },
    {
      "cell_type": "code",
      "metadata": {
        "colab": {
          "base_uri": "https://localhost:8080/"
        },
        "id": "BBNZqGMqhuoO",
        "outputId": "b3a83a6e-1946-417e-ed5a-e5c833cca431"
      },
      "source": [
        "\"PATCHLESS MIXER\"\n",
        "num_classes = 10\n",
        "hidden_dim = 28\n",
        "depth = 32\n",
        "model = patchless_mixer(height, width, hidden_dim, depth, num_classes)\n",
        "print(model.summary())\n",
        "model.predict(train_images[:2, :, :])\n",
        "model.compile(optimizer='adam',\n",
        "              loss=tf.keras.losses.SparseCategoricalCrossentropy(from_logits=True),\n",
        "              metrics=['accuracy'])\n",
        "history = model.fit(train_images, train_labels, batch_size=64, epochs=10, \n",
        "                    validation_data=(test_images, test_labels))"
      ],
      "execution_count": null,
      "outputs": [
        {
          "output_type": "stream",
          "text": [
            "Model: \"model_124\"\n",
            "_________________________________________________________________\n",
            "Layer (type)                 Output Shape              Param #   \n",
            "=================================================================\n",
            "input_149 (InputLayer)       [(None, 28, 28)]          0         \n",
            "_________________________________________________________________\n",
            "reshape_138 (Reshape)        (None, 1, 28, 28)         0         \n",
            "_________________________________________________________________\n",
            "mixer_mlp_38 (MixerMLP)      (None, 32, 28, 32)        63488     \n",
            "_________________________________________________________________\n",
            "permute_101 (Permute)        (None, 32, 32, 28)        0         \n",
            "_________________________________________________________________\n",
            "mixer_mlp_39 (MixerMLP)      (None, 32, 32, 32)        63488     \n",
            "_________________________________________________________________\n",
            "lambda_37 (Lambda)           (None, 32, 32)            0         \n",
            "_________________________________________________________________\n",
            "flatten_89 (Flatten)         (None, 1024)              0         \n",
            "_________________________________________________________________\n",
            "dense_157 (Dense)            (None, 10)                10250     \n",
            "=================================================================\n",
            "Total params: 137,226\n",
            "Trainable params: 137,226\n",
            "Non-trainable params: 0\n",
            "_________________________________________________________________\n",
            "None\n",
            "WARNING:tensorflow:11 out of the last 11 calls to <function Model.make_predict_function.<locals>.predict_function at 0x7f56befe7f80> triggered tf.function retracing. Tracing is expensive and the excessive number of tracings could be due to (1) creating @tf.function repeatedly in a loop, (2) passing tensors with different shapes, (3) passing Python objects instead of tensors. For (1), please define your @tf.function outside of the loop. For (2), @tf.function has experimental_relax_shapes=True option that relaxes argument shapes that can avoid unnecessary retracing. For (3), please refer to https://www.tensorflow.org/guide/function#controlling_retracing and https://www.tensorflow.org/api_docs/python/tf/function for  more details.\n",
            "Epoch 1/10\n",
            "938/938 [==============================] - 7s 7ms/step - loss: 0.9367 - accuracy: 0.6836 - val_loss: 0.1433 - val_accuracy: 0.9590\n",
            "Epoch 2/10\n",
            "938/938 [==============================] - 6s 7ms/step - loss: 0.1382 - accuracy: 0.9585 - val_loss: 0.0984 - val_accuracy: 0.9685\n",
            "Epoch 3/10\n",
            "938/938 [==============================] - 6s 7ms/step - loss: 0.0898 - accuracy: 0.9724 - val_loss: 0.0806 - val_accuracy: 0.9734\n",
            "Epoch 4/10\n",
            "938/938 [==============================] - 6s 7ms/step - loss: 0.0726 - accuracy: 0.9781 - val_loss: 0.0665 - val_accuracy: 0.9795\n",
            "Epoch 5/10\n",
            "938/938 [==============================] - 6s 7ms/step - loss: 0.0591 - accuracy: 0.9822 - val_loss: 0.0690 - val_accuracy: 0.9789\n",
            "Epoch 6/10\n",
            "938/938 [==============================] - 6s 7ms/step - loss: 0.0522 - accuracy: 0.9832 - val_loss: 0.0666 - val_accuracy: 0.9776\n",
            "Epoch 7/10\n",
            "938/938 [==============================] - 6s 7ms/step - loss: 0.0439 - accuracy: 0.9857 - val_loss: 0.0610 - val_accuracy: 0.9805\n",
            "Epoch 8/10\n",
            "938/938 [==============================] - 6s 7ms/step - loss: 0.0409 - accuracy: 0.9869 - val_loss: 0.0563 - val_accuracy: 0.9820\n",
            "Epoch 9/10\n",
            "938/938 [==============================] - 6s 7ms/step - loss: 0.0315 - accuracy: 0.9896 - val_loss: 0.0579 - val_accuracy: 0.9816\n",
            "Epoch 10/10\n",
            "938/938 [==============================] - 6s 7ms/step - loss: 0.0289 - accuracy: 0.9907 - val_loss: 0.0628 - val_accuracy: 0.9803\n"
          ],
          "name": "stdout"
        }
      ]
    },
    {
      "cell_type": "code",
      "metadata": {
        "colab": {
          "base_uri": "https://localhost:8080/"
        },
        "id": "8c23sMyabUti",
        "outputId": "c0c96cb4-b805-4aa3-a437-1ceb2fb7c00a"
      },
      "source": [
        "\"BLENDER\"\n",
        "num_classes = 10\n",
        "size = 256\n",
        "model = blender(height, width, size, num_classes)\n",
        "print(model.summary())\n",
        "model.predict(train_images[:2, :, :])\n",
        "model.compile(optimizer='adam',\n",
        "              loss=tf.keras.losses.SparseCategoricalCrossentropy(from_logits=True),\n",
        "              metrics=['accuracy'])\n",
        "history = model.fit(train_images, train_labels, batch_size=64, epochs=10, \n",
        "                    validation_data=(test_images, test_labels))"
      ],
      "execution_count": null,
      "outputs": [
        {
          "output_type": "stream",
          "text": [
            "Model: \"model_105\"\n",
            "_________________________________________________________________\n",
            "Layer (type)                 Output Shape              Param #   \n",
            "=================================================================\n",
            "input_128 (InputLayer)       [(None, 28, 28)]          0         \n",
            "_________________________________________________________________\n",
            "reshape_122 (Reshape)        (None, 1, 28, 28)         0         \n",
            "_________________________________________________________________\n",
            "batch_dense_30 (BatchDense)  (None, 256, 28, 1)        7424      \n",
            "_________________________________________________________________\n",
            "permute_58 (Permute)         (None, 256, 1, 28)        0         \n",
            "_________________________________________________________________\n",
            "batch_dense_31 (BatchDense)  (None, 256, 1, 1)         7424      \n",
            "_________________________________________________________________\n",
            "flatten_70 (Flatten)         (None, 256)               0         \n",
            "_________________________________________________________________\n",
            "dense_71 (Dense)             (None, 10)                2570      \n",
            "=================================================================\n",
            "Total params: 17,418\n",
            "Trainable params: 17,418\n",
            "Non-trainable params: 0\n",
            "_________________________________________________________________\n",
            "None\n",
            "WARNING:tensorflow:11 out of the last 11 calls to <function Model.make_predict_function.<locals>.predict_function at 0x7f57a01d6dd0> triggered tf.function retracing. Tracing is expensive and the excessive number of tracings could be due to (1) creating @tf.function repeatedly in a loop, (2) passing tensors with different shapes, (3) passing Python objects instead of tensors. For (1), please define your @tf.function outside of the loop. For (2), @tf.function has experimental_relax_shapes=True option that relaxes argument shapes that can avoid unnecessary retracing. For (3), please refer to https://www.tensorflow.org/guide/function#controlling_retracing and https://www.tensorflow.org/api_docs/python/tf/function for  more details.\n",
            "Epoch 1/10\n",
            "938/938 [==============================] - 6s 6ms/step - loss: 0.8553 - accuracy: 0.7810 - val_loss: 0.2884 - val_accuracy: 0.9146\n",
            "Epoch 2/10\n",
            "938/938 [==============================] - 6s 6ms/step - loss: 0.2957 - accuracy: 0.9165 - val_loss: 0.2873 - val_accuracy: 0.9177\n",
            "Epoch 3/10\n",
            "938/938 [==============================] - 5s 6ms/step - loss: 0.2878 - accuracy: 0.9198 - val_loss: 0.2742 - val_accuracy: 0.9195\n",
            "Epoch 4/10\n",
            "938/938 [==============================] - 6s 6ms/step - loss: 0.2766 - accuracy: 0.9208 - val_loss: 0.2739 - val_accuracy: 0.9215\n",
            "Epoch 5/10\n",
            "938/938 [==============================] - 6s 6ms/step - loss: 0.2745 - accuracy: 0.9211 - val_loss: 0.2670 - val_accuracy: 0.9233\n",
            "Epoch 6/10\n",
            "938/938 [==============================] - 5s 6ms/step - loss: 0.2692 - accuracy: 0.9256 - val_loss: 0.2694 - val_accuracy: 0.9248\n",
            "Epoch 7/10\n",
            "938/938 [==============================] - 5s 6ms/step - loss: 0.2651 - accuracy: 0.9262 - val_loss: 0.2676 - val_accuracy: 0.9236\n",
            "Epoch 8/10\n",
            "938/938 [==============================] - 5s 6ms/step - loss: 0.2717 - accuracy: 0.9250 - val_loss: 0.2665 - val_accuracy: 0.9227\n",
            "Epoch 9/10\n",
            "938/938 [==============================] - 6s 6ms/step - loss: 0.2683 - accuracy: 0.9244 - val_loss: 0.2646 - val_accuracy: 0.9243\n",
            "Epoch 10/10\n",
            "938/938 [==============================] - 6s 6ms/step - loss: 0.2617 - accuracy: 0.9258 - val_loss: 0.2719 - val_accuracy: 0.9216\n"
          ],
          "name": "stdout"
        }
      ]
    },
    {
      "cell_type": "code",
      "metadata": {
        "colab": {
          "base_uri": "https://localhost:8080/"
        },
        "id": "T5jTiGf4dpS-",
        "outputId": "f00bbdf3-1dcf-45ec-9f3a-6da4347f9085"
      },
      "source": [
        "\"WIDER BLENDER\"\n",
        "num_classes = 10\n",
        "size = 64\n",
        "hidden_size = 64\n",
        "model = wider_blender(height, width, hidden_size, size, num_classes)\n",
        "print(model.summary())\n",
        "model.predict(train_images[:2, :, :])\n",
        "model.compile(optimizer='adam',\n",
        "              loss=tf.keras.losses.SparseCategoricalCrossentropy(from_logits=True),\n",
        "              metrics=['accuracy'])\n",
        "history = model.fit(train_images, train_labels, batch_size=64, epochs=10, \n",
        "                    validation_data=(test_images, test_labels))"
      ],
      "execution_count": null,
      "outputs": [
        {
          "output_type": "stream",
          "text": [
            "Model: \"model_114\"\n",
            "_________________________________________________________________\n",
            "Layer (type)                 Output Shape              Param #   \n",
            "=================================================================\n",
            "input_137 (InputLayer)       [(None, 28, 28)]          0         \n",
            "_________________________________________________________________\n",
            "reshape_131 (Reshape)        (None, 1, 28, 28)         0         \n",
            "_________________________________________________________________\n",
            "mixer_mlp_26 (MixerMLP)      (None, 64, 28, 1)         122944    \n",
            "_________________________________________________________________\n",
            "permute_67 (Permute)         (None, 64, 1, 28)         0         \n",
            "_________________________________________________________________\n",
            "mixer_mlp_27 (MixerMLP)      (None, 64, 1, 1)          122944    \n",
            "_________________________________________________________________\n",
            "flatten_79 (Flatten)         (None, 64)                0         \n",
            "_________________________________________________________________\n",
            "dense_81 (Dense)             (None, 10)                650       \n",
            "=================================================================\n",
            "Total params: 246,538\n",
            "Trainable params: 246,538\n",
            "Non-trainable params: 0\n",
            "_________________________________________________________________\n",
            "None\n",
            "WARNING:tensorflow:11 out of the last 11 calls to <function Model.make_predict_function.<locals>.predict_function at 0x7f56befe7950> triggered tf.function retracing. Tracing is expensive and the excessive number of tracings could be due to (1) creating @tf.function repeatedly in a loop, (2) passing tensors with different shapes, (3) passing Python objects instead of tensors. For (1), please define your @tf.function outside of the loop. For (2), @tf.function has experimental_relax_shapes=True option that relaxes argument shapes that can avoid unnecessary retracing. For (3), please refer to https://www.tensorflow.org/guide/function#controlling_retracing and https://www.tensorflow.org/api_docs/python/tf/function for  more details.\n",
            "Epoch 1/10\n",
            "938/938 [==============================] - 8s 8ms/step - loss: 0.7587 - accuracy: 0.7645 - val_loss: 0.1592 - val_accuracy: 0.9537\n",
            "Epoch 2/10\n",
            "938/938 [==============================] - 7s 8ms/step - loss: 0.1433 - accuracy: 0.9568 - val_loss: 0.1074 - val_accuracy: 0.9666\n",
            "Epoch 3/10\n",
            "938/938 [==============================] - 7s 8ms/step - loss: 0.0973 - accuracy: 0.9709 - val_loss: 0.0904 - val_accuracy: 0.9745\n",
            "Epoch 4/10\n",
            "938/938 [==============================] - 7s 8ms/step - loss: 0.0753 - accuracy: 0.9765 - val_loss: 0.0876 - val_accuracy: 0.9751\n",
            "Epoch 5/10\n",
            "938/938 [==============================] - 7s 8ms/step - loss: 0.0642 - accuracy: 0.9804 - val_loss: 0.0905 - val_accuracy: 0.9732\n",
            "Epoch 6/10\n",
            "938/938 [==============================] - 7s 8ms/step - loss: 0.0548 - accuracy: 0.9830 - val_loss: 0.0822 - val_accuracy: 0.9742\n",
            "Epoch 7/10\n",
            "938/938 [==============================] - 7s 8ms/step - loss: 0.0442 - accuracy: 0.9862 - val_loss: 0.0804 - val_accuracy: 0.9775\n",
            "Epoch 8/10\n",
            "938/938 [==============================] - 7s 8ms/step - loss: 0.0404 - accuracy: 0.9871 - val_loss: 0.0755 - val_accuracy: 0.9779\n",
            "Epoch 9/10\n",
            "938/938 [==============================] - 7s 8ms/step - loss: 0.0347 - accuracy: 0.9887 - val_loss: 0.0773 - val_accuracy: 0.9784\n",
            "Epoch 10/10\n",
            "938/938 [==============================] - 7s 8ms/step - loss: 0.0307 - accuracy: 0.9894 - val_loss: 0.0789 - val_accuracy: 0.9770\n"
          ],
          "name": "stdout"
        }
      ]
    },
    {
      "cell_type": "code",
      "metadata": {
        "colab": {
          "base_uri": "https://localhost:8080/",
          "height": 301
        },
        "id": "R4-AasyVec4E",
        "outputId": "f2b8fd24-f263-49e8-86c6-198b170d9d89"
      },
      "source": [
        "plt.plot(history.history['accuracy'], label='accuracy')\n",
        "plt.plot(history.history['val_accuracy'], label = 'val_accuracy')\n",
        "plt.xlabel('Epoch')\n",
        "plt.ylabel('Accuracy')\n",
        "plt.ylim([.8, 1])\n",
        "plt.legend(loc='lower right')\n",
        "test_loss, test_acc = model.evaluate(test_images,  test_labels, verbose=2)"
      ],
      "execution_count": null,
      "outputs": [
        {
          "output_type": "stream",
          "text": [
            "313/313 - 1s - loss: 0.0628 - accuracy: 0.9803\n"
          ],
          "name": "stdout"
        },
        {
          "output_type": "display_data",
          "data": {
            "image/png": "[encoded data removed]",
            "text/plain": [
              "<Figure size 432x288 with 1 Axes>"
            ]
          },
          "metadata": {
            "tags": [],
            "needs_background": "light"
          }
        }
      ]
    },
    {
      "cell_type": "markdown",
      "metadata": {
        "id": "7Si9BOGiwaaw"
      },
      "source": [
        "# CIFAR-10"
      ]
    },
    {
      "cell_type": "code",
      "metadata": {
        "id": "k8bFy7GfjG-D"
      },
      "source": [
        "(train_images, train_labels), (test_images, test_labels) = datasets.cifar10.load_data()\n",
        "train_images, test_images = train_images / 255.0, test_images / 255.0\n",
        "train_images, test_images = train_images.astype(np.float32), test_images.astype(np.float32)\n",
        "height, width = 32, 32\n",
        "num_classes = 10"
      ],
      "execution_count": null,
      "outputs": []
    },
    {
      "cell_type": "code",
      "metadata": {
        "colab": {
          "base_uri": "https://localhost:8080/"
        },
        "id": "nQDzCHpK81lk",
        "outputId": "2a8fd00b-6618-4d56-db34-ad23da13352e"
      },
      "source": [
        "\"RESNET MIXER\"\n",
        "n_repeat = 4\n",
        "depth = 16\n",
        "\n",
        "inputs = tf.keras.layers.Input(shape=(height, width, channels))\n",
        "reshaped = tf.keras.layers.Reshape([height, width * channels])(inputs)\n",
        "model = resnet_mixer(height, width * channels, depth, num_classes, n_repeat)(reshaped)\n",
        "model = tf.keras.Model(inputs=inputs, outputs=model)\n",
        "\n",
        "print(model.summary())\n",
        "model.predict(train_images[:2, :, :])\n",
        "model.compile(optimizer='adam',\n",
        "              loss=tf.keras.losses.SparseCategoricalCrossentropy(from_logits=True),\n",
        "              metrics=['accuracy'])\n",
        "history = model.fit(train_images, train_labels, batch_size=64, epochs=10, \n",
        "                    validation_data=(test_images, test_labels))"
      ],
      "execution_count": null,
      "outputs": [
        {
          "output_type": "stream",
          "text": [
            "Model: \"model_169\"\n",
            "_________________________________________________________________\n",
            "Layer (type)                 Output Shape              Param #   \n",
            "=================================================================\n",
            "input_201 (InputLayer)       [(None, 32, 32, 3)]       0         \n",
            "_________________________________________________________________\n",
            "reshape_189 (Reshape)        (None, 32, 96)            0         \n",
            "_________________________________________________________________\n",
            "model_168 (Functional)       (None, 10)                1349742   \n",
            "=================================================================\n",
            "Total params: 1,349,742\n",
            "Trainable params: 1,349,742\n",
            "Non-trainable params: 0\n",
            "_________________________________________________________________\n",
            "None\n",
            "WARNING:tensorflow:11 out of the last 11 calls to <function Model.make_predict_function.<locals>.predict_function at 0x7f57437b7200> triggered tf.function retracing. Tracing is expensive and the excessive number of tracings could be due to (1) creating @tf.function repeatedly in a loop, (2) passing tensors with different shapes, (3) passing Python objects instead of tensors. For (1), please define your @tf.function outside of the loop. For (2), @tf.function has experimental_relax_shapes=True option that relaxes argument shapes that can avoid unnecessary retracing. For (3), please refer to https://www.tensorflow.org/guide/function#controlling_retracing and https://www.tensorflow.org/api_docs/python/tf/function for  more details.\n",
            "Epoch 1/10\n",
            "782/782 [==============================] - 28s 33ms/step - loss: 1.9549 - accuracy: 0.3012 - val_loss: 1.5427 - val_accuracy: 0.4564\n",
            "Epoch 2/10\n",
            "782/782 [==============================] - 25s 32ms/step - loss: 1.4790 - accuracy: 0.4758 - val_loss: 1.3675 - val_accuracy: 0.5067\n",
            "Epoch 3/10\n",
            "782/782 [==============================] - 25s 32ms/step - loss: 1.3239 - accuracy: 0.5266 - val_loss: 1.2893 - val_accuracy: 0.5407\n",
            "Epoch 4/10\n",
            "782/782 [==============================] - 25s 32ms/step - loss: 1.2346 - accuracy: 0.5584 - val_loss: 1.2501 - val_accuracy: 0.5545\n",
            "Epoch 5/10\n",
            "782/782 [==============================] - 25s 32ms/step - loss: 1.1628 - accuracy: 0.5890 - val_loss: 1.2112 - val_accuracy: 0.5726\n",
            "Epoch 6/10\n",
            "782/782 [==============================] - 25s 32ms/step - loss: 1.0997 - accuracy: 0.6083 - val_loss: 1.1893 - val_accuracy: 0.5778\n",
            "Epoch 7/10\n",
            "782/782 [==============================] - 25s 32ms/step - loss: 1.0385 - accuracy: 0.6316 - val_loss: 1.1862 - val_accuracy: 0.5862\n",
            "Epoch 8/10\n",
            "782/782 [==============================] - 25s 32ms/step - loss: 0.9864 - accuracy: 0.6522 - val_loss: 1.1535 - val_accuracy: 0.5936\n",
            "Epoch 9/10\n",
            "782/782 [==============================] - 25s 32ms/step - loss: 0.9211 - accuracy: 0.6773 - val_loss: 1.1616 - val_accuracy: 0.5980\n",
            "Epoch 10/10\n",
            "782/782 [==============================] - 25s 32ms/step - loss: 0.8643 - accuracy: 0.6938 - val_loss: 1.1853 - val_accuracy: 0.5911\n"
          ],
          "name": "stdout"
        }
      ]
    },
    {
      "cell_type": "code",
      "metadata": {
        "colab": {
          "base_uri": "https://localhost:8080/"
        },
        "id": "KIXhw3-5-8Bf",
        "outputId": "8ea84eb1-34d6-44f3-b9c0-1b617e235cab"
      },
      "source": [
        "\"RESNET MIXER\"\n",
        "n_repeat = 16\n",
        "depth = 1\n",
        "\n",
        "inputs = tf.keras.layers.Input(shape=(height, width, channels))\n",
        "reshaped = tf.keras.layers.Reshape([height, width * channels])(inputs)\n",
        "model = resnet_mixer(height, width * channels, depth, num_classes, n_repeat)(reshaped)\n",
        "model = tf.keras.Model(inputs=inputs, outputs=model)\n",
        "\n",
        "print(model.summary())\n",
        "model.predict(train_images[:2, :, :])\n",
        "model.compile(optimizer='adam',\n",
        "              loss=tf.keras.losses.SparseCategoricalCrossentropy(from_logits=True),\n",
        "              metrics=['accuracy'])\n",
        "history = model.fit(train_images, train_labels, batch_size=64, epochs=10, \n",
        "                    validation_data=(test_images, test_labels))"
      ],
      "execution_count": null,
      "outputs": [
        {
          "output_type": "stream",
          "text": [
            "Model: \"model_183\"\n",
            "_________________________________________________________________\n",
            "Layer (type)                 Output Shape              Param #   \n",
            "=================================================================\n",
            "input_217 (InputLayer)       [(None, 32, 32, 3)]       0         \n",
            "_________________________________________________________________\n",
            "reshape_205 (Reshape)        (None, 32, 96)            0         \n",
            "_________________________________________________________________\n",
            "model_182 (Functional)       (None, 10)                333216    \n",
            "=================================================================\n",
            "Total params: 333,216\n",
            "Trainable params: 333,216\n",
            "Non-trainable params: 0\n",
            "_________________________________________________________________\n",
            "None\n",
            "WARNING:tensorflow:11 out of the last 11 calls to <function Model.make_predict_function.<locals>.predict_function at 0x7f574ccfb170> triggered tf.function retracing. Tracing is expensive and the excessive number of tracings could be due to (1) creating @tf.function repeatedly in a loop, (2) passing tensors with different shapes, (3) passing Python objects instead of tensors. For (1), please define your @tf.function outside of the loop. For (2), @tf.function has experimental_relax_shapes=True option that relaxes argument shapes that can avoid unnecessary retracing. For (3), please refer to https://www.tensorflow.org/guide/function#controlling_retracing and https://www.tensorflow.org/api_docs/python/tf/function for  more details.\n",
            "Epoch 1/10\n",
            "782/782 [==============================] - 20s 16ms/step - loss: 1.8379 - accuracy: 0.3303 - val_loss: 1.3806 - val_accuracy: 0.5074\n",
            "Epoch 2/10\n",
            "782/782 [==============================] - 12s 15ms/step - loss: 1.3012 - accuracy: 0.5378 - val_loss: 1.2553 - val_accuracy: 0.5508\n",
            "Epoch 3/10\n",
            "782/782 [==============================] - 11s 15ms/step - loss: 1.1318 - accuracy: 0.5994 - val_loss: 1.1825 - val_accuracy: 0.5731\n",
            "Epoch 4/10\n",
            "782/782 [==============================] - 11s 15ms/step - loss: 0.9807 - accuracy: 0.6520 - val_loss: 1.1517 - val_accuracy: 0.5874\n",
            "Epoch 5/10\n",
            "782/782 [==============================] - 11s 15ms/step - loss: 0.8503 - accuracy: 0.6998 - val_loss: 1.2051 - val_accuracy: 0.5834\n",
            "Epoch 6/10\n",
            "782/782 [==============================] - 11s 15ms/step - loss: 0.6984 - accuracy: 0.7544 - val_loss: 1.2282 - val_accuracy: 0.5877\n",
            "Epoch 7/10\n",
            "782/782 [==============================] - 11s 15ms/step - loss: 0.5571 - accuracy: 0.8023 - val_loss: 1.3305 - val_accuracy: 0.5860\n",
            "Epoch 8/10\n",
            "782/782 [==============================] - 11s 15ms/step - loss: 0.4312 - accuracy: 0.8493 - val_loss: 1.5699 - val_accuracy: 0.5737\n",
            "Epoch 9/10\n",
            "782/782 [==============================] - 11s 15ms/step - loss: 0.3385 - accuracy: 0.8852 - val_loss: 1.7307 - val_accuracy: 0.5691\n",
            "Epoch 10/10\n",
            "782/782 [==============================] - 11s 15ms/step - loss: 0.2725 - accuracy: 0.9044 - val_loss: 1.9005 - val_accuracy: 0.5615\n"
          ],
          "name": "stdout"
        }
      ]
    },
    {
      "cell_type": "code",
      "metadata": {
        "colab": {
          "base_uri": "https://localhost:8080/",
          "height": 729
        },
        "id": "p9VhhmZ-wcnd",
        "outputId": "59735e2d-9a4c-428b-b3b7-6aa56666b20b"
      },
      "source": [
        "\"DEEPER REPEATED PATCHLESS MIXER ROW-COL CLASSIFICATION\"\n",
        "num_classes = 10\n",
        "hidden_dim = 64\n",
        "n_repeat = 16\n",
        "depth = 8\n",
        "\n",
        "inputs = tf.keras.layers.Input(shape=(height, width, channels))\n",
        "reshaped = tf.keras.layers.Reshape([height, width * channels])(inputs)\n",
        "model = repeated_patchless_mixer_2(height, width * channels, hidden_dim, depth, num_classes, n_repeat)(reshaped)\n",
        "model = tf.keras.Model(inputs=inputs, outputs=model)\n",
        "\n",
        "print(model.summary())\n",
        "model.predict(train_images[:2, :, :])\n",
        "model.compile(optimizer='adam',\n",
        "              loss=tf.keras.losses.SparseCategoricalCrossentropy(from_logits=True),\n",
        "              metrics=['accuracy'])\n",
        "history = model.fit(train_images, train_labels, batch_size=64, epochs=10, \n",
        "                    validation_data=(test_images, test_labels))"
      ],
      "execution_count": null,
      "outputs": [
        {
          "output_type": "stream",
          "text": [
            "Model: \"model_157\"\n",
            "_________________________________________________________________\n",
            "Layer (type)                 Output Shape              Param #   \n",
            "=================================================================\n",
            "input_184 (InputLayer)       [(None, 32, 32, 3)]       0         \n",
            "_________________________________________________________________\n",
            "reshape_172 (Reshape)        (None, 32, 96)            0         \n",
            "_________________________________________________________________\n",
            "model_156 (Functional)       (None, 10)                2274362   \n",
            "=================================================================\n",
            "Total params: 2,274,362\n",
            "Trainable params: 2,274,362\n",
            "Non-trainable params: 0\n",
            "_________________________________________________________________\n",
            "None\n",
            "WARNING:tensorflow:11 out of the last 11 calls to <function Model.make_predict_function.<locals>.predict_function at 0x7f574cf30d40> triggered tf.function retracing. Tracing is expensive and the excessive number of tracings could be due to (1) creating @tf.function repeatedly in a loop, (2) passing tensors with different shapes, (3) passing Python objects instead of tensors. For (1), please define your @tf.function outside of the loop. For (2), @tf.function has experimental_relax_shapes=True option that relaxes argument shapes that can avoid unnecessary retracing. For (3), please refer to https://www.tensorflow.org/guide/function#controlling_retracing and https://www.tensorflow.org/api_docs/python/tf/function for  more details.\n",
            "Epoch 1/10\n",
            "219/782 [=======>......................] - ETA: 36s - loss: 2.1462 - accuracy: 0.1967"
          ],
          "name": "stdout"
        },
        {
          "output_type": "error",
          "ename": "KeyboardInterrupt",
          "evalue": "ignored",
          "traceback": [
            "\u001b[0;31m---------------------------------------------------------------------------\u001b[0m",
            "\u001b[0;31mKeyboardInterrupt\u001b[0m                         Traceback (most recent call last)",
            "\u001b[0;32m<ipython-input-259-c56760502b54>\u001b[0m in \u001b[0;36m<module>\u001b[0;34m()\u001b[0m\n\u001b[1;32m     16\u001b[0m               metrics=['accuracy'])\n\u001b[1;32m     17\u001b[0m history = model.fit(train_images, train_labels, batch_size=64, epochs=10, \n\u001b[0;32m---> 18\u001b[0;31m                     validation_data=(test_images, test_labels))\n\u001b[0m",
            "\u001b[0;32m/usr/local/lib/python3.7/dist-packages/tensorflow/python/keras/engine/training.py\u001b[0m in \u001b[0;36mfit\u001b[0;34m(self, x, y, batch_size, epochs, verbose, callbacks, validation_split, validation_data, shuffle, class_weight, sample_weight, initial_epoch, steps_per_epoch, validation_steps, validation_batch_size, validation_freq, max_queue_size, workers, use_multiprocessing)\u001b[0m\n\u001b[1;32m   1098\u001b[0m                 _r=1):\n\u001b[1;32m   1099\u001b[0m               \u001b[0mcallbacks\u001b[0m\u001b[0;34m.\u001b[0m\u001b[0mon_train_batch_begin\u001b[0m\u001b[0;34m(\u001b[0m\u001b[0mstep\u001b[0m\u001b[0;34m)\u001b[0m\u001b[0;34m\u001b[0m\u001b[0;34m\u001b[0m\u001b[0m\n\u001b[0;32m-> 1100\u001b[0;31m               \u001b[0mtmp_logs\u001b[0m \u001b[0;34m=\u001b[0m \u001b[0mself\u001b[0m\u001b[0;34m.\u001b[0m\u001b[0mtrain_function\u001b[0m\u001b[0;34m(\u001b[0m\u001b[0miterator\u001b[0m\u001b[0;34m)\u001b[0m\u001b[0;34m\u001b[0m\u001b[0;34m\u001b[0m\u001b[0m\n\u001b[0m\u001b[1;32m   1101\u001b[0m               \u001b[0;32mif\u001b[0m \u001b[0mdata_handler\u001b[0m\u001b[0;34m.\u001b[0m\u001b[0mshould_sync\u001b[0m\u001b[0;34m:\u001b[0m\u001b[0;34m\u001b[0m\u001b[0;34m\u001b[0m\u001b[0m\n\u001b[1;32m   1102\u001b[0m                 \u001b[0mcontext\u001b[0m\u001b[0;34m.\u001b[0m\u001b[0masync_wait\u001b[0m\u001b[0;34m(\u001b[0m\u001b[0;34m)\u001b[0m\u001b[0;34m\u001b[0m\u001b[0;34m\u001b[0m\u001b[0m\n",
            "\u001b[0;32m/usr/local/lib/python3.7/dist-packages/tensorflow/python/eager/def_function.py\u001b[0m in \u001b[0;36m__call__\u001b[0;34m(self, *args, **kwds)\u001b[0m\n\u001b[1;32m    826\u001b[0m     \u001b[0mtracing_count\u001b[0m \u001b[0;34m=\u001b[0m \u001b[0mself\u001b[0m\u001b[0;34m.\u001b[0m\u001b[0mexperimental_get_tracing_count\u001b[0m\u001b[0;34m(\u001b[0m\u001b[0;34m)\u001b[0m\u001b[0;34m\u001b[0m\u001b[0;34m\u001b[0m\u001b[0m\n\u001b[1;32m    827\u001b[0m     \u001b[0;32mwith\u001b[0m \u001b[0mtrace\u001b[0m\u001b[0;34m.\u001b[0m\u001b[0mTrace\u001b[0m\u001b[0;34m(\u001b[0m\u001b[0mself\u001b[0m\u001b[0;34m.\u001b[0m\u001b[0m_name\u001b[0m\u001b[0;34m)\u001b[0m \u001b[0;32mas\u001b[0m \u001b[0mtm\u001b[0m\u001b[0;34m:\u001b[0m\u001b[0;34m\u001b[0m\u001b[0;34m\u001b[0m\u001b[0m\n\u001b[0;32m--> 828\u001b[0;31m       \u001b[0mresult\u001b[0m \u001b[0;34m=\u001b[0m \u001b[0mself\u001b[0m\u001b[0;34m.\u001b[0m\u001b[0m_call\u001b[0m\u001b[0;34m(\u001b[0m\u001b[0;34m*\u001b[0m\u001b[0margs\u001b[0m\u001b[0;34m,\u001b[0m \u001b[0;34m**\u001b[0m\u001b[0mkwds\u001b[0m\u001b[0;34m)\u001b[0m\u001b[0;34m\u001b[0m\u001b[0;34m\u001b[0m\u001b[0m\n\u001b[0m\u001b[1;32m    829\u001b[0m       \u001b[0mcompiler\u001b[0m \u001b[0;34m=\u001b[0m \u001b[0;34m\"xla\"\u001b[0m \u001b[0;32mif\u001b[0m \u001b[0mself\u001b[0m\u001b[0;34m.\u001b[0m\u001b[0m_experimental_compile\u001b[0m \u001b[0;32melse\u001b[0m \u001b[0;34m\"nonXla\"\u001b[0m\u001b[0;34m\u001b[0m\u001b[0;34m\u001b[0m\u001b[0m\n\u001b[1;32m    830\u001b[0m       \u001b[0mnew_tracing_count\u001b[0m \u001b[0;34m=\u001b[0m \u001b[0mself\u001b[0m\u001b[0;34m.\u001b[0m\u001b[0mexperimental_get_tracing_count\u001b[0m\u001b[0;34m(\u001b[0m\u001b[0;34m)\u001b[0m\u001b[0;34m\u001b[0m\u001b[0;34m\u001b[0m\u001b[0m\n",
            "\u001b[0;32m/usr/local/lib/python3.7/dist-packages/tensorflow/python/eager/def_function.py\u001b[0m in \u001b[0;36m_call\u001b[0;34m(self, *args, **kwds)\u001b[0m\n\u001b[1;32m    853\u001b[0m       \u001b[0;31m# In this case we have created variables on the first call, so we run the\u001b[0m\u001b[0;34m\u001b[0m\u001b[0;34m\u001b[0m\u001b[0;34m\u001b[0m\u001b[0m\n\u001b[1;32m    854\u001b[0m       \u001b[0;31m# defunned version which is guaranteed to never create variables.\u001b[0m\u001b[0;34m\u001b[0m\u001b[0;34m\u001b[0m\u001b[0;34m\u001b[0m\u001b[0m\n\u001b[0;32m--> 855\u001b[0;31m       \u001b[0;32mreturn\u001b[0m \u001b[0mself\u001b[0m\u001b[0;34m.\u001b[0m\u001b[0m_stateless_fn\u001b[0m\u001b[0;34m(\u001b[0m\u001b[0;34m*\u001b[0m\u001b[0margs\u001b[0m\u001b[0;34m,\u001b[0m \u001b[0;34m**\u001b[0m\u001b[0mkwds\u001b[0m\u001b[0;34m)\u001b[0m  \u001b[0;31m# pylint: disable=not-callable\u001b[0m\u001b[0;34m\u001b[0m\u001b[0;34m\u001b[0m\u001b[0m\n\u001b[0m\u001b[1;32m    856\u001b[0m     \u001b[0;32melif\u001b[0m \u001b[0mself\u001b[0m\u001b[0;34m.\u001b[0m\u001b[0m_stateful_fn\u001b[0m \u001b[0;32mis\u001b[0m \u001b[0;32mnot\u001b[0m \u001b[0;32mNone\u001b[0m\u001b[0;34m:\u001b[0m\u001b[0;34m\u001b[0m\u001b[0;34m\u001b[0m\u001b[0m\n\u001b[1;32m    857\u001b[0m       \u001b[0;31m# Release the lock early so that multiple threads can perform the call\u001b[0m\u001b[0;34m\u001b[0m\u001b[0;34m\u001b[0m\u001b[0;34m\u001b[0m\u001b[0m\n",
            "\u001b[0;32m/usr/local/lib/python3.7/dist-packages/tensorflow/python/eager/function.py\u001b[0m in \u001b[0;36m__call__\u001b[0;34m(self, *args, **kwargs)\u001b[0m\n\u001b[1;32m   2941\u001b[0m        filtered_flat_args) = self._maybe_define_function(args, kwargs)\n\u001b[1;32m   2942\u001b[0m     return graph_function._call_flat(\n\u001b[0;32m-> 2943\u001b[0;31m         filtered_flat_args, captured_inputs=graph_function.captured_inputs)  # pylint: disable=protected-access\n\u001b[0m\u001b[1;32m   2944\u001b[0m \u001b[0;34m\u001b[0m\u001b[0m\n\u001b[1;32m   2945\u001b[0m   \u001b[0;34m@\u001b[0m\u001b[0mproperty\u001b[0m\u001b[0;34m\u001b[0m\u001b[0;34m\u001b[0m\u001b[0m\n",
            "\u001b[0;32m/usr/local/lib/python3.7/dist-packages/tensorflow/python/eager/function.py\u001b[0m in \u001b[0;36m_call_flat\u001b[0;34m(self, args, captured_inputs, cancellation_manager)\u001b[0m\n\u001b[1;32m   1917\u001b[0m       \u001b[0;31m# No tape is watching; skip to running the function.\u001b[0m\u001b[0;34m\u001b[0m\u001b[0;34m\u001b[0m\u001b[0;34m\u001b[0m\u001b[0m\n\u001b[1;32m   1918\u001b[0m       return self._build_call_outputs(self._inference_function.call(\n\u001b[0;32m-> 1919\u001b[0;31m           ctx, args, cancellation_manager=cancellation_manager))\n\u001b[0m\u001b[1;32m   1920\u001b[0m     forward_backward = self._select_forward_and_backward_functions(\n\u001b[1;32m   1921\u001b[0m         \u001b[0margs\u001b[0m\u001b[0;34m,\u001b[0m\u001b[0;34m\u001b[0m\u001b[0;34m\u001b[0m\u001b[0m\n",
            "\u001b[0;32m/usr/local/lib/python3.7/dist-packages/tensorflow/python/eager/function.py\u001b[0m in \u001b[0;36mcall\u001b[0;34m(self, ctx, args, cancellation_manager)\u001b[0m\n\u001b[1;32m    558\u001b[0m               \u001b[0minputs\u001b[0m\u001b[0;34m=\u001b[0m\u001b[0margs\u001b[0m\u001b[0;34m,\u001b[0m\u001b[0;34m\u001b[0m\u001b[0;34m\u001b[0m\u001b[0m\n\u001b[1;32m    559\u001b[0m               \u001b[0mattrs\u001b[0m\u001b[0;34m=\u001b[0m\u001b[0mattrs\u001b[0m\u001b[0;34m,\u001b[0m\u001b[0;34m\u001b[0m\u001b[0;34m\u001b[0m\u001b[0m\n\u001b[0;32m--> 560\u001b[0;31m               ctx=ctx)\n\u001b[0m\u001b[1;32m    561\u001b[0m         \u001b[0;32melse\u001b[0m\u001b[0;34m:\u001b[0m\u001b[0;34m\u001b[0m\u001b[0;34m\u001b[0m\u001b[0m\n\u001b[1;32m    562\u001b[0m           outputs = execute.execute_with_cancellation(\n",
            "\u001b[0;32m/usr/local/lib/python3.7/dist-packages/tensorflow/python/eager/execute.py\u001b[0m in \u001b[0;36mquick_execute\u001b[0;34m(op_name, num_outputs, inputs, attrs, ctx, name)\u001b[0m\n\u001b[1;32m     58\u001b[0m     \u001b[0mctx\u001b[0m\u001b[0;34m.\u001b[0m\u001b[0mensure_initialized\u001b[0m\u001b[0;34m(\u001b[0m\u001b[0;34m)\u001b[0m\u001b[0;34m\u001b[0m\u001b[0;34m\u001b[0m\u001b[0m\n\u001b[1;32m     59\u001b[0m     tensors = pywrap_tfe.TFE_Py_Execute(ctx._handle, device_name, op_name,\n\u001b[0;32m---> 60\u001b[0;31m                                         inputs, attrs, num_outputs)\n\u001b[0m\u001b[1;32m     61\u001b[0m   \u001b[0;32mexcept\u001b[0m \u001b[0mcore\u001b[0m\u001b[0;34m.\u001b[0m\u001b[0m_NotOkStatusException\u001b[0m \u001b[0;32mas\u001b[0m \u001b[0me\u001b[0m\u001b[0;34m:\u001b[0m\u001b[0;34m\u001b[0m\u001b[0;34m\u001b[0m\u001b[0m\n\u001b[1;32m     62\u001b[0m     \u001b[0;32mif\u001b[0m \u001b[0mname\u001b[0m \u001b[0;32mis\u001b[0m \u001b[0;32mnot\u001b[0m \u001b[0;32mNone\u001b[0m\u001b[0;34m:\u001b[0m\u001b[0;34m\u001b[0m\u001b[0;34m\u001b[0m\u001b[0m\n",
            "\u001b[0;31mKeyboardInterrupt\u001b[0m: "
          ]
        }
      ]
    },
    {
      "cell_type": "code",
      "metadata": {
        "colab": {
          "base_uri": "https://localhost:8080/"
        },
        "id": "tRuUEP1_pmoE",
        "outputId": "a4fddc96-c587-4029-b0d3-025d972a46e6"
      },
      "source": [
        "\"DEEPER REPEATED PATCHLESS MIXER\"\n",
        "num_classes = 10\n",
        "hidden_dim = 32\n",
        "n_repeat = 3\n",
        "depth = 8\n",
        "inputs = tf.keras.layers.Input(shape=(height, width, channels))\n",
        "reshaped = tf.keras.layers.Reshape([height, width * channels])(inputs)\n",
        "model = repeated_patchless_mixer(height, width * channels, hidden_dim, depth, num_classes, n_repeat)(reshaped)\n",
        "model = tf.keras.Model(inputs=inputs, outputs=model)\n",
        "print(model.summary())\n",
        "model.predict(train_images[:2, :, :])\n",
        "model.compile(optimizer='adam',\n",
        "              loss=tf.keras.losses.SparseCategoricalCrossentropy(from_logits=True),\n",
        "              metrics=['accuracy'])\n",
        "history = model.fit(train_images, train_labels, batch_size=64, epochs=10, \n",
        "                    validation_data=(test_images, test_labels))"
      ],
      "execution_count": null,
      "outputs": [
        {
          "output_type": "stream",
          "text": [
            "Model: \"model_130\"\n",
            "_________________________________________________________________\n",
            "Layer (type)                 Output Shape              Param #   \n",
            "=================================================================\n",
            "input_156 (InputLayer)       [(None, 32, 32, 3)]       0         \n",
            "_________________________________________________________________\n",
            "reshape_144 (Reshape)        (None, 32, 96)            0         \n",
            "_________________________________________________________________\n",
            "model_129 (Functional)       (None, 10)                233482    \n",
            "=================================================================\n",
            "Total params: 233,482\n",
            "Trainable params: 233,482\n",
            "Non-trainable params: 0\n",
            "_________________________________________________________________\n",
            "None\n",
            "WARNING:tensorflow:11 out of the last 11 calls to <function Model.make_predict_function.<locals>.predict_function at 0x7f574aa468c0> triggered tf.function retracing. Tracing is expensive and the excessive number of tracings could be due to (1) creating @tf.function repeatedly in a loop, (2) passing tensors with different shapes, (3) passing Python objects instead of tensors. For (1), please define your @tf.function outside of the loop. For (2), @tf.function has experimental_relax_shapes=True option that relaxes argument shapes that can avoid unnecessary retracing. For (3), please refer to https://www.tensorflow.org/guide/function#controlling_retracing and https://www.tensorflow.org/api_docs/python/tf/function for  more details.\n",
            "Epoch 1/10\n",
            "782/782 [==============================] - 9s 9ms/step - loss: 1.9038 - accuracy: 0.3210 - val_loss: 1.5143 - val_accuracy: 0.4565\n",
            "Epoch 2/10\n",
            "782/782 [==============================] - 7s 9ms/step - loss: 1.4937 - accuracy: 0.4722 - val_loss: 1.3783 - val_accuracy: 0.5032\n",
            "Epoch 3/10\n",
            "782/782 [==============================] - 7s 9ms/step - loss: 1.3583 - accuracy: 0.5194 - val_loss: 1.2883 - val_accuracy: 0.5432\n",
            "Epoch 4/10\n",
            "782/782 [==============================] - 7s 9ms/step - loss: 1.2599 - accuracy: 0.5567 - val_loss: 1.2676 - val_accuracy: 0.5516\n",
            "Epoch 5/10\n",
            "782/782 [==============================] - 7s 9ms/step - loss: 1.1940 - accuracy: 0.5756 - val_loss: 1.2129 - val_accuracy: 0.5757\n",
            "Epoch 6/10\n",
            "782/782 [==============================] - 7s 9ms/step - loss: 1.1297 - accuracy: 0.5997 - val_loss: 1.1779 - val_accuracy: 0.5804\n",
            "Epoch 7/10\n",
            "782/782 [==============================] - 7s 9ms/step - loss: 1.0984 - accuracy: 0.6134 - val_loss: 1.1649 - val_accuracy: 0.5873\n",
            "Epoch 8/10\n",
            "782/782 [==============================] - 7s 9ms/step - loss: 1.0486 - accuracy: 0.6290 - val_loss: 1.1691 - val_accuracy: 0.5867\n",
            "Epoch 9/10\n",
            "782/782 [==============================] - 7s 9ms/step - loss: 1.0042 - accuracy: 0.6440 - val_loss: 1.1667 - val_accuracy: 0.5908\n",
            "Epoch 10/10\n",
            "782/782 [==============================] - 7s 9ms/step - loss: 0.9870 - accuracy: 0.6499 - val_loss: 1.1461 - val_accuracy: 0.5982\n"
          ],
          "name": "stdout"
        }
      ]
    },
    {
      "cell_type": "code",
      "metadata": {
        "colab": {
          "base_uri": "https://localhost:8080/"
        },
        "id": "dZ2a0CrzqWfh",
        "outputId": "3557e326-1bbb-4229-ec73-a52784e3c43b"
      },
      "source": [
        "\"DEEPER REPEATED PATCHLESS MIXER\"\n",
        "num_classes = 10\n",
        "hidden_dim = 64\n",
        "n_repeat = 16\n",
        "depth = 4\n",
        "inputs = tf.keras.layers.Input(shape=(height, width, channels))\n",
        "reshaped = tf.keras.layers.Reshape([height, width * channels])(inputs)\n",
        "model = repeated_patchless_mixer(height, width * channels, hidden_dim, depth, num_classes, n_repeat)(reshaped)\n",
        "model = tf.keras.Model(inputs=inputs, outputs=model)\n",
        "print(model.summary())\n",
        "model.predict(train_images[:2, :, :])\n",
        "model.compile(optimizer='adam',\n",
        "              loss=tf.keras.losses.SparseCategoricalCrossentropy(from_logits=True),\n",
        "              metrics=['accuracy'])\n",
        "history = model.fit(train_images, train_labels, batch_size=64, epochs=10, \n",
        "                    validation_data=(test_images, test_labels))"
      ],
      "execution_count": null,
      "outputs": [
        {
          "output_type": "stream",
          "text": [
            "Model: \"model_138\"\n",
            "_________________________________________________________________\n",
            "Layer (type)                 Output Shape              Param #   \n",
            "=================================================================\n",
            "input_164 (InputLayer)       [(None, 32, 32, 3)]       0         \n",
            "_________________________________________________________________\n",
            "reshape_152 (Reshape)        (None, 32, 96)            0         \n",
            "_________________________________________________________________\n",
            "model_137 (Functional)       (None, 10)                1295370   \n",
            "=================================================================\n",
            "Total params: 1,295,370\n",
            "Trainable params: 1,295,370\n",
            "Non-trainable params: 0\n",
            "_________________________________________________________________\n",
            "None\n",
            "WARNING:tensorflow:11 out of the last 11 calls to <function Model.make_predict_function.<locals>.predict_function at 0x7f574ce8c7a0> triggered tf.function retracing. Tracing is expensive and the excessive number of tracings could be due to (1) creating @tf.function repeatedly in a loop, (2) passing tensors with different shapes, (3) passing Python objects instead of tensors. For (1), please define your @tf.function outside of the loop. For (2), @tf.function has experimental_relax_shapes=True option that relaxes argument shapes that can avoid unnecessary retracing. For (3), please refer to https://www.tensorflow.org/guide/function#controlling_retracing and https://www.tensorflow.org/api_docs/python/tf/function for  more details.\n",
            "Epoch 1/10\n",
            "782/782 [==============================] - 36s 38ms/step - loss: 1.8305 - accuracy: 0.3535 - val_loss: 1.5645 - val_accuracy: 0.4470\n",
            "Epoch 2/10\n",
            "782/782 [==============================] - 29s 37ms/step - loss: 1.4588 - accuracy: 0.4841 - val_loss: 1.3692 - val_accuracy: 0.5135\n",
            "Epoch 3/10\n",
            "782/782 [==============================] - 29s 37ms/step - loss: 1.3257 - accuracy: 0.5278 - val_loss: 1.3033 - val_accuracy: 0.5337\n",
            "Epoch 4/10\n",
            "782/782 [==============================] - 29s 37ms/step - loss: 1.2209 - accuracy: 0.5701 - val_loss: 1.2239 - val_accuracy: 0.5600\n",
            "Epoch 5/10\n",
            "782/782 [==============================] - 29s 37ms/step - loss: 1.1571 - accuracy: 0.5894 - val_loss: 1.1983 - val_accuracy: 0.5773\n",
            "Epoch 6/10\n",
            "782/782 [==============================] - 29s 37ms/step - loss: 1.0874 - accuracy: 0.6156 - val_loss: 1.1703 - val_accuracy: 0.5879\n",
            "Epoch 7/10\n",
            "782/782 [==============================] - 29s 37ms/step - loss: 1.0240 - accuracy: 0.6387 - val_loss: 1.1331 - val_accuracy: 0.5982\n",
            "Epoch 8/10\n",
            "782/782 [==============================] - 29s 37ms/step - loss: 0.9677 - accuracy: 0.6563 - val_loss: 1.1369 - val_accuracy: 0.6030\n",
            "Epoch 9/10\n",
            "782/782 [==============================] - 29s 37ms/step - loss: 0.9186 - accuracy: 0.6751 - val_loss: 1.1174 - val_accuracy: 0.6129\n",
            "Epoch 10/10\n",
            "782/782 [==============================] - 29s 37ms/step - loss: 0.8706 - accuracy: 0.6916 - val_loss: 1.1777 - val_accuracy: 0.6011\n"
          ],
          "name": "stdout"
        }
      ]
    },
    {
      "cell_type": "code",
      "metadata": {
        "colab": {
          "base_uri": "https://localhost:8080/"
        },
        "id": "TfFdHWfDBJMp",
        "outputId": "66a28995-86d7-4bf1-b9c2-cbb0ad2faf29"
      },
      "source": [
        "height, width = 32, 32\n",
        "hidden_size = 512\n",
        "size = 16\n",
        "num_classes = 10\n",
        "\n",
        "inputs = tf.keras.layers.Input(shape=(height, width, channels))\n",
        "reshaped = tf.keras.layers.Reshape([height, width * channels])(inputs)\n",
        "blender = blender_model(height, width * channels, hidden_size, size, num_classes)(reshaped)\n",
        "model = tf.keras.Model(inputs=inputs, outputs=blender)\n",
        "print(model.summary())\n",
        "\n",
        "optimizer = tf.keras.optimizers.Adam(0.1, epsilon=0.1)\n",
        "model.compile(optimizer='adam',\n",
        "              loss=tf.keras.losses.SparseCategoricalCrossentropy(from_logits=True),\n",
        "              metrics=['accuracy'])\n",
        "\n",
        "history = model.fit(train_images, train_labels, batch_size=64, epochs=10, \n",
        "                    validation_data=(test_images, test_labels))"
      ],
      "execution_count": null,
      "outputs": [
        {
          "output_type": "stream",
          "text": [
            "Model: \"model_89\"\n",
            "_________________________________________________________________\n",
            "Layer (type)                 Output Shape              Param #   \n",
            "=================================================================\n",
            "input_106 (InputLayer)       [(None, 32, 32, 3)]       0         \n",
            "_________________________________________________________________\n",
            "reshape_100 (Reshape)        (None, 32, 96)            0         \n",
            "_________________________________________________________________\n",
            "model_88 (Functional)        (None, 10)                1081514   \n",
            "=================================================================\n",
            "Total params: 1,081,514\n",
            "Trainable params: 1,081,514\n",
            "Non-trainable params: 0\n",
            "_________________________________________________________________\n",
            "None\n",
            "Epoch 1/10\n",
            "782/782 [==============================] - 12s 14ms/step - loss: 1.9332 - accuracy: 0.2934 - val_loss: 1.5982 - val_accuracy: 0.4258\n",
            "Epoch 2/10\n",
            "782/782 [==============================] - 11s 14ms/step - loss: 1.5638 - accuracy: 0.4408 - val_loss: 1.4949 - val_accuracy: 0.4674\n",
            "Epoch 3/10\n",
            "782/782 [==============================] - 11s 14ms/step - loss: 1.4697 - accuracy: 0.4743 - val_loss: 1.4190 - val_accuracy: 0.4958\n",
            "Epoch 4/10\n",
            "782/782 [==============================] - 11s 13ms/step - loss: 1.4132 - accuracy: 0.4955 - val_loss: 1.4199 - val_accuracy: 0.4857\n",
            "Epoch 5/10\n",
            "782/782 [==============================] - 11s 13ms/step - loss: 1.3844 - accuracy: 0.5039 - val_loss: 1.3707 - val_accuracy: 0.5089\n",
            "Epoch 6/10\n",
            "782/782 [==============================] - 11s 14ms/step - loss: 1.3521 - accuracy: 0.5144 - val_loss: 1.3857 - val_accuracy: 0.4999\n",
            "Epoch 7/10\n",
            "782/782 [==============================] - 11s 14ms/step - loss: 1.3273 - accuracy: 0.5249 - val_loss: 1.3957 - val_accuracy: 0.5045\n",
            "Epoch 8/10\n",
            "782/782 [==============================] - 11s 14ms/step - loss: 1.2987 - accuracy: 0.5347 - val_loss: 1.3739 - val_accuracy: 0.5112\n",
            "Epoch 9/10\n",
            "782/782 [==============================] - 11s 14ms/step - loss: 1.2833 - accuracy: 0.5382 - val_loss: 1.3238 - val_accuracy: 0.5316\n",
            "Epoch 10/10\n",
            "782/782 [==============================] - 11s 14ms/step - loss: 1.2727 - accuracy: 0.5439 - val_loss: 1.3481 - val_accuracy: 0.5201\n"
          ],
          "name": "stdout"
        }
      ]
    },
    {
      "cell_type": "code",
      "metadata": {
        "colab": {
          "base_uri": "https://localhost:8080/",
          "height": 301
        },
        "id": "qoLv6V2dCxtA",
        "outputId": "c7124115-ab9f-4783-c110-4b36c1b32faa"
      },
      "source": [
        "plt.plot(history.history['accuracy'], label='accuracy')\n",
        "plt.plot(history.history['val_accuracy'], label = 'val_accuracy')\n",
        "plt.xlabel('Epoch')\n",
        "plt.ylabel('Accuracy')\n",
        "plt.ylim([0, 1])\n",
        "plt.legend(loc='lower right')\n",
        "test_loss, test_acc = model.evaluate(test_images,  test_labels, verbose=2)"
      ],
      "execution_count": null,
      "outputs": [
        {
          "output_type": "stream",
          "text": [
            "313/313 - 2s - loss: 1.2273 - accuracy: 0.5633\n"
          ],
          "name": "stdout"
        },
        {
          "output_type": "display_data",
          "data": {
            "image/png": "[encoded data removed]",
            "text/plain": [
              "<Figure size 432x288 with 1 Axes>"
            ]
          },
          "metadata": {
            "tags": [],
            "needs_background": "light"
          }
        }
      ]
    },
    {
      "cell_type": "code",
      "metadata": {
        "colab": {
          "base_uri": "https://localhost:8080/"
        },
        "id": "OpSV3rhzjJKk",
        "outputId": "6c7d10af-dc36-406a-cb67-9dc5de374c46"
      },
      "source": [
        "height, width, channels = train_images.shape[-3:]\n",
        "hidden_dim = 256\n",
        "depth = 16\n",
        "num_classes = 10\n",
        "\n",
        "inputs = tf.keras.layers.Input(shape=(height, width, channels))\n",
        "reshaped = tf.keras.layers.Reshape([height, width * channels])(inputs)\n",
        "mixer = patchless_mixer(height, width * channels, hidden_dim, hidden_dim, depth, num_classes)(reshaped)\n",
        "model = tf.keras.Model(inputs=inputs, outputs=mixer)\n",
        "print(model.summary())\n",
        "\n",
        "model.compile(optimizer='adam',\n",
        "              loss=tf.keras.losses.SparseCategoricalCrossentropy(from_logits=True),\n",
        "              metrics=['accuracy'])\n",
        "\n",
        "history = model.fit(train_images, train_labels, epochs=10, \n",
        "                    validation_data=(test_images, test_labels))"
      ],
      "execution_count": null,
      "outputs": [
        {
          "output_type": "stream",
          "text": [
            "Model: \"model_97\"\n",
            "_________________________________________________________________\n",
            "Layer (type)                 Output Shape              Param #   \n",
            "=================================================================\n",
            "input_114 (InputLayer)       [(None, 32, 32, 3)]       0         \n",
            "_________________________________________________________________\n",
            "reshape_108 (Reshape)        (None, 32, 96)            0         \n",
            "_________________________________________________________________\n",
            "model_96 (Functional)        (None, 10)                3285002   \n",
            "=================================================================\n",
            "Total params: 3,285,002\n",
            "Trainable params: 3,285,002\n",
            "Non-trainable params: 0\n",
            "_________________________________________________________________\n",
            "None\n",
            "Epoch 1/10\n",
            "1563/1563 [==============================] - 52s 33ms/step - loss: 1.8906 - accuracy: 0.3206 - val_loss: 1.4518 - val_accuracy: 0.4840\n",
            "Epoch 2/10\n",
            "1563/1563 [==============================] - 52s 33ms/step - loss: 1.4150 - accuracy: 0.4981 - val_loss: 1.3200 - val_accuracy: 0.5316\n",
            "Epoch 3/10\n",
            "1563/1563 [==============================] - 52s 33ms/step - loss: 1.2657 - accuracy: 0.5527 - val_loss: 1.2665 - val_accuracy: 0.5499\n",
            "Epoch 4/10\n",
            "1563/1563 [==============================] - 52s 33ms/step - loss: 1.1544 - accuracy: 0.5890 - val_loss: 1.1811 - val_accuracy: 0.5848\n",
            "Epoch 5/10\n",
            "1563/1563 [==============================] - 51s 33ms/step - loss: 1.0738 - accuracy: 0.6246 - val_loss: 1.1351 - val_accuracy: 0.6003\n",
            "Epoch 6/10\n",
            "1563/1563 [==============================] - 52s 33ms/step - loss: 0.9853 - accuracy: 0.6513 - val_loss: 1.1143 - val_accuracy: 0.6124\n",
            "Epoch 7/10\n",
            "1563/1563 [==============================] - 52s 33ms/step - loss: 0.9214 - accuracy: 0.6771 - val_loss: 1.1359 - val_accuracy: 0.6096\n",
            "Epoch 8/10\n",
            "1563/1563 [==============================] - 52s 33ms/step - loss: 0.8473 - accuracy: 0.7023 - val_loss: 1.1218 - val_accuracy: 0.6208\n",
            "Epoch 9/10\n",
            "1563/1563 [==============================] - 52s 33ms/step - loss: 0.7680 - accuracy: 0.7323 - val_loss: 1.1719 - val_accuracy: 0.6228\n",
            "Epoch 10/10\n",
            "1563/1563 [==============================] - 51s 33ms/step - loss: 0.6839 - accuracy: 0.7600 - val_loss: 1.2209 - val_accuracy: 0.6152\n"
          ],
          "name": "stdout"
        }
      ]
    },
    {
      "cell_type": "code",
      "metadata": {
        "colab": {
          "base_uri": "https://localhost:8080/",
          "height": 301
        },
        "id": "nYdxiEtusG4a",
        "outputId": "1f3b72bd-c79a-4a79-9f06-291c2df7aad0"
      },
      "source": [
        "plt.plot(history.history['accuracy'], label='accuracy')\n",
        "plt.plot(history.history['val_accuracy'], label = 'val_accuracy')\n",
        "plt.xlabel('Epoch')\n",
        "plt.ylabel('Accuracy')\n",
        "plt.ylim([0, 1])\n",
        "plt.legend(loc='lower right')\n",
        "test_loss, test_acc = model.evaluate(test_images,  test_labels, verbose=2)"
      ],
      "execution_count": null,
      "outputs": [
        {
          "output_type": "stream",
          "text": [
            "313/313 - 1s - loss: 1.1823 - accuracy: 0.6108\n"
          ],
          "name": "stdout"
        },
        {
          "output_type": "display_data",
          "data": {
            "image/png": "[encoded data removed]",
            "text/plain": [
              "<Figure size 432x288 with 1 Axes>"
            ]
          },
          "metadata": {
            "tags": [],
            "needs_background": "light"
          }
        }
      ]
    },
    {
      "cell_type": "code",
      "metadata": {
        "id": "wUIgCxUTydlf"
      },
      "source": [
        ""
      ],
      "execution_count": null,
      "outputs": []
    }
  ]
}